{
 "cells": [
  {
   "cell_type": "markdown",
   "metadata": {},
   "source": [
    "## Quickly access PI names and update their values"
   ]
  },
  {
   "cell_type": "code",
   "execution_count": null,
   "metadata": {},
   "outputs": [
    {
     "data": {
      "text/plain": [
       "SMInstance(http://metaspace2020.eu/graphql)"
      ]
     },
     "execution_count": 4,
     "metadata": {},
     "output_type": "execute_result"
    }
   ],
   "source": [
    "from metaspace.sm_annotation_utils import SMInstance\n",
    "import json\n",
    "sm = SMInstance()\n",
    "sm"
   ]
  },
  {
   "cell_type": "code",
   "execution_count": 11,
   "metadata": {},
   "outputs": [
    {
     "name": "stdout",
     "output_type": "stream",
     "text": [
      "Berhard Spengler bernhard.spengler@uni-giessen.de\n",
      "Berhard Spengler bernhard.spengler@uni-giessen.de\n",
      "Berhard Spengler bernhard.spengler@uni-giessen.de\n"
     ]
    }
   ],
   "source": [
    "# List of dataset ids to be updatted\n",
    "dslist = [\"2018-06-21_09h12m59s\",\"2018-06-21_15h34m39s\",\"2018-06-21_14h53m25s\",]\n",
    "\n",
    "datasets = sm.datasets(idMask=dslist)\n",
    "for dataset in datasets:\n",
    "    old_metadata = json.loads(dataset._metadata.json)\n",
    "    # Existing PI names\n",
    "    print(json.loads(dataset._metadata.json)['Submitted_By']['Principal_Investigator']['First_Name'],\n",
    "         json.loads(dataset._metadata.json)['Submitted_By']['Principal_Investigator']['Surname'],\n",
    "         json.loads(dataset._metadata.json)['Submitted_By']['Principal_Investigator']['Email'])\n",
    "    \n",
    "    # Assign new values\n",
    "    old_metadata['Submitted_By']['Principal_Investigator']['First_Name'] = 'Berhard'\n",
    "    old_metadata['Submitted_By']['Principal_Investigator']['Surname'] = 'Spengler'\n",
    "    old_metadata['Submitted_By']['Principal_Investigator']['Email'] = 'bernhard.spengler@uni-giessen.de'\n",
    "    new_metadata = json.dumps(old_metadata)\n",
    "    \n",
    "    # Run updating \n",
    "    # def update_dataset(self, datasetID, metadata, isPublic, **kwargs)\n",
    "    sm.update_dataset(dataset.id, new_metadata, sm.dataset(id=dataset.id).is_public)"
   ]
  },
  {
   "cell_type": "code",
   "execution_count": null,
   "metadata": {},
   "outputs": [],
   "source": []
  }
 ],
 "metadata": {
  "kernelspec": {
   "display_name": "Python 3",
   "language": "python",
   "name": "python3"
  },
  "language_info": {
   "codemirror_mode": {
    "name": "ipython",
    "version": 3
   },
   "file_extension": ".py",
   "mimetype": "text/x-python",
   "name": "python",
   "nbconvert_exporter": "python",
   "pygments_lexer": "ipython3",
   "version": "3.6.5"
  }
 },
 "nbformat": 4,
 "nbformat_minor": 2
}
