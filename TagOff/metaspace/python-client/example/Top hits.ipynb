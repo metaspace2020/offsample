{
 "cells": [
  {
   "cell_type": "code",
   "execution_count": 1,
   "metadata": {
    "collapsed": true
   },
   "outputs": [],
   "source": [
    "from metaspace.sm_annotation_utils import SMInstance"
   ]
  },
  {
   "cell_type": "code",
   "execution_count": 2,
   "metadata": {
    "collapsed": true
   },
   "outputs": [],
   "source": [
    "# Provide a path to the main configuration file used by SM engine\n",
    "sm_dev = SMInstance(\"../config.json\")\n",
    "\n",
    "datasets = sm_dev.datasets()"
   ]
  },
  {
   "cell_type": "code",
   "execution_count": null,
   "metadata": {
    "collapsed": false
   },
   "outputs": [
    {
     "data": {
      "text/plain": [
       "[(u'C37H68O4', u'+H'),\n",
       " (u'C29H47NO4', u'+Na'),\n",
       " (u'C24H50NO7P', u'+H'),\n",
       " (u'C40H80NO8P', u'+H'),\n",
       " (u'C42H82NO8P', u'+H'),\n",
       " (u'C35H66O4', u'+H'),\n",
       " (u'C40H80NO8P', u'+K'),\n",
       " (u'C43H76NO7P', u'+Na'),\n",
       " (u'C44H80NO8P', u'+K'),\n",
       " (u'C39H73O8P', u'+Na')]"
      ]
     },
     "execution_count": 3,
     "metadata": {},
     "output_type": "execute_result"
    }
   ],
   "source": [
    "# Ions with top average MSM score across all datasets (aggregation is performed by ElasticSearch)\n",
    "\n",
    "# all adducts\n",
    "sm_dev.top_hits(datasets, size=10)"
   ]
  },
  {
   "cell_type": "code",
   "execution_count": 4,
   "metadata": {
    "collapsed": false
   },
   "outputs": [
    {
     "data": {
      "text/plain": [
       "[(u'C29H47NO4', u'+Na'),\n",
       " (u'C43H76NO7P', u'+Na'),\n",
       " (u'C39H73O8P', u'+Na'),\n",
       " (u'C42H82NO8P', u'+Na'),\n",
       " (u'C45H76NO7P', u'+Na'),\n",
       " (u'C40H80NO8P', u'+Na'),\n",
       " (u'C45H78NO7P', u'+Na'),\n",
       " (u'C43H74NO7P', u'+Na'),\n",
       " (u'C37H71O8P', u'+Na'),\n",
       " (u'C46H84NO8P', u'+Na')]"
      ]
     },
     "execution_count": 4,
     "metadata": {},
     "output_type": "execute_result"
    }
   ],
   "source": [
    "# only +Na adduct\n",
    "na_top = sm_dev.top_hits(datasets, adduct='+Na', size=10)\n",
    "na_top"
   ]
  },
  {
   "cell_type": "code",
   "execution_count": 5,
   "metadata": {
    "collapsed": false
   },
   "outputs": [
    {
     "name": "stdout",
     "output_type": "stream",
     "text": [
      "(49, 10)\n"
     ]
    },
    {
     "data": {
      "text/html": [
       "<div>\n",
       "<table border=\"1\" class=\"dataframe\">\n",
       "  <thead>\n",
       "    <tr>\n",
       "      <th>sf</th>\n",
       "      <th>C29H47NO4</th>\n",
       "      <th>C37H71O8P</th>\n",
       "      <th>C39H73O8P</th>\n",
       "      <th>C40H80NO8P</th>\n",
       "      <th>C42H82NO8P</th>\n",
       "      <th>C43H74NO7P</th>\n",
       "      <th>C43H76NO7P</th>\n",
       "      <th>C45H76NO7P</th>\n",
       "      <th>C45H78NO7P</th>\n",
       "      <th>C46H84NO8P</th>\n",
       "    </tr>\n",
       "    <tr>\n",
       "      <th>adduct</th>\n",
       "      <th>+Na</th>\n",
       "      <th>+Na</th>\n",
       "      <th>+Na</th>\n",
       "      <th>+Na</th>\n",
       "      <th>+Na</th>\n",
       "      <th>+Na</th>\n",
       "      <th>+Na</th>\n",
       "      <th>+Na</th>\n",
       "      <th>+Na</th>\n",
       "      <th>+Na</th>\n",
       "    </tr>\n",
       "    <tr>\n",
       "      <th>ds_name</th>\n",
       "      <th></th>\n",
       "      <th></th>\n",
       "      <th></th>\n",
       "      <th></th>\n",
       "      <th></th>\n",
       "      <th></th>\n",
       "      <th></th>\n",
       "      <th></th>\n",
       "      <th></th>\n",
       "      <th></th>\n",
       "    </tr>\n",
       "  </thead>\n",
       "  <tbody>\n",
       "    <tr>\n",
       "      <th>AstraZeneca//Xenograft</th>\n",
       "      <td>0.019634</td>\n",
       "      <td>0.000000</td>\n",
       "      <td>0.000000</td>\n",
       "      <td>0.000000</td>\n",
       "      <td>0.000000</td>\n",
       "      <td>0.000000</td>\n",
       "      <td>0.000000</td>\n",
       "      <td>0.000000</td>\n",
       "      <td>0.000000</td>\n",
       "      <td>0.000000</td>\n",
       "    </tr>\n",
       "    <tr>\n",
       "      <th>Bruker//RB_a1s1</th>\n",
       "      <td>0.686127</td>\n",
       "      <td>0.804907</td>\n",
       "      <td>0.784508</td>\n",
       "      <td>0.465214</td>\n",
       "      <td>0.674365</td>\n",
       "      <td>0.757947</td>\n",
       "      <td>0.824159</td>\n",
       "      <td>0.700394</td>\n",
       "      <td>0.658200</td>\n",
       "      <td>0.751220</td>\n",
       "    </tr>\n",
       "    <tr>\n",
       "      <th>Bruker//RB_a2s1</th>\n",
       "      <td>0.751724</td>\n",
       "      <td>0.537704</td>\n",
       "      <td>0.911459</td>\n",
       "      <td>0.944242</td>\n",
       "      <td>0.863046</td>\n",
       "      <td>0.545571</td>\n",
       "      <td>0.771087</td>\n",
       "      <td>0.851857</td>\n",
       "      <td>0.836615</td>\n",
       "      <td>0.572407</td>\n",
       "    </tr>\n",
       "    <tr>\n",
       "      <th>Bruker//RB_a2s2</th>\n",
       "      <td>0.821823</td>\n",
       "      <td>0.893787</td>\n",
       "      <td>0.895370</td>\n",
       "      <td>0.925445</td>\n",
       "      <td>0.878314</td>\n",
       "      <td>0.829645</td>\n",
       "      <td>0.853826</td>\n",
       "      <td>0.859992</td>\n",
       "      <td>0.219965</td>\n",
       "      <td>0.712569</td>\n",
       "    </tr>\n",
       "    <tr>\n",
       "      <th>EMBL//Brain02_Bregma1-42_01</th>\n",
       "      <td>0.707425</td>\n",
       "      <td>0.932512</td>\n",
       "      <td>0.915943</td>\n",
       "      <td>0.962548</td>\n",
       "      <td>0.936638</td>\n",
       "      <td>0.895349</td>\n",
       "      <td>0.965556</td>\n",
       "      <td>0.912521</td>\n",
       "      <td>0.886243</td>\n",
       "      <td>0.922309</td>\n",
       "    </tr>\n",
       "  </tbody>\n",
       "</table>\n",
       "</div>"
      ],
      "text/plain": [
       "sf                          C29H47NO4 C37H71O8P C39H73O8P C40H80NO8P  \\\n",
       "adduct                            +Na       +Na       +Na        +Na   \n",
       "ds_name                                                                \n",
       "AstraZeneca//Xenograft       0.019634  0.000000  0.000000   0.000000   \n",
       "Bruker//RB_a1s1              0.686127  0.804907  0.784508   0.465214   \n",
       "Bruker//RB_a2s1              0.751724  0.537704  0.911459   0.944242   \n",
       "Bruker//RB_a2s2              0.821823  0.893787  0.895370   0.925445   \n",
       "EMBL//Brain02_Bregma1-42_01  0.707425  0.932512  0.915943   0.962548   \n",
       "\n",
       "sf                          C42H82NO8P C43H74NO7P C43H76NO7P C45H76NO7P  \\\n",
       "adduct                             +Na        +Na        +Na        +Na   \n",
       "ds_name                                                                   \n",
       "AstraZeneca//Xenograft        0.000000   0.000000   0.000000   0.000000   \n",
       "Bruker//RB_a1s1               0.674365   0.757947   0.824159   0.700394   \n",
       "Bruker//RB_a2s1               0.863046   0.545571   0.771087   0.851857   \n",
       "Bruker//RB_a2s2               0.878314   0.829645   0.853826   0.859992   \n",
       "EMBL//Brain02_Bregma1-42_01   0.936638   0.895349   0.965556   0.912521   \n",
       "\n",
       "sf                          C45H78NO7P C46H84NO8P  \n",
       "adduct                             +Na        +Na  \n",
       "ds_name                                            \n",
       "AstraZeneca//Xenograft        0.000000   0.000000  \n",
       "Bruker//RB_a1s1               0.658200   0.751220  \n",
       "Bruker//RB_a2s1               0.836615   0.572407  \n",
       "Bruker//RB_a2s2               0.219965   0.712569  \n",
       "EMBL//Brain02_Bregma1-42_01   0.886243   0.922309  "
      ]
     },
     "execution_count": 5,
     "metadata": {},
     "output_type": "execute_result"
    }
   ],
   "source": [
    "# get MSM scores for a list of datasets and list of sum formulas\n",
    "df = sm_dev.msm_scores(datasets, na_top)\n",
    "print df.shape\n",
    "df.head()"
   ]
  },
  {
   "cell_type": "code",
   "execution_count": 6,
   "metadata": {
    "collapsed": false
   },
   "outputs": [
    {
     "data": {
      "text/plain": [
       "sf          adduct\n",
       "C29H47NO4   +Na       0.639772\n",
       "C37H71O8P   +Na       0.471652\n",
       "C39H73O8P   +Na       0.535531\n",
       "C40H80NO8P  +Na       0.503077\n",
       "C42H82NO8P  +Na       0.512460\n",
       "C43H74NO7P  +Na       0.480553\n",
       "C43H76NO7P  +Na       0.539062\n",
       "C45H76NO7P  +Na       0.507236\n",
       "C45H78NO7P  +Na       0.487685\n",
       "C46H84NO8P  +Na       0.470193\n",
       "dtype: float64"
      ]
     },
     "execution_count": 6,
     "metadata": {},
     "output_type": "execute_result"
    }
   ],
   "source": [
    "df.mean(axis=0)"
   ]
  },
  {
   "cell_type": "code",
   "execution_count": null,
   "metadata": {
    "collapsed": true
   },
   "outputs": [],
   "source": []
  }
 ],
 "metadata": {
  "kernelspec": {
   "display_name": "Python 2",
   "language": "python",
   "name": "python2"
  },
  "language_info": {
   "codemirror_mode": {
    "name": "ipython",
    "version": 2
   },
   "file_extension": ".py",
   "mimetype": "text/x-python",
   "name": "python",
   "nbconvert_exporter": "python",
   "pygments_lexer": "ipython2",
   "version": "2.7.11"
  }
 },
 "nbformat": 4,
 "nbformat_minor": 0
}
