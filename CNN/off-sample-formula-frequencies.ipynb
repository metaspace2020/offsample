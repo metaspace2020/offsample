{
 "cells": [
  {
   "cell_type": "markdown",
   "metadata": {},
   "source": [
    "# Get Annotation Off-sample Stats"
   ]
  },
  {
   "cell_type": "code",
   "execution_count": 175,
   "metadata": {
    "pycharm": {
     "is_executing": false
    }
   },
   "outputs": [
    {
     "name": "stdout",
     "output_type": "stream",
     "text": [
      "(23238, 3)\n"
     ]
    },
    {
     "data": {
      "text/html": [
       "<div>\n",
       "<style scoped>\n",
       "    .dataframe tbody tr th:only-of-type {\n",
       "        vertical-align: middle;\n",
       "    }\n",
       "\n",
       "    .dataframe tbody tr th {\n",
       "        vertical-align: top;\n",
       "    }\n",
       "\n",
       "    .dataframe thead th {\n",
       "        text-align: right;\n",
       "    }\n",
       "</style>\n",
       "<table border=\"1\" class=\"dataframe\">\n",
       "  <thead>\n",
       "    <tr style=\"text-align: right;\">\n",
       "      <th></th>\n",
       "      <th>path</th>\n",
       "      <th>pred_label</th>\n",
       "      <th>off_sample_pred_prob</th>\n",
       "    </tr>\n",
       "  </thead>\n",
       "  <tbody>\n",
       "    <tr>\n",
       "      <th>0</th>\n",
       "      <td>data/GS_predictions/Dataset 30/off/C18H30O+H.png</td>\n",
       "      <td>off</td>\n",
       "      <td>0.995310</td>\n",
       "    </tr>\n",
       "    <tr>\n",
       "      <th>1</th>\n",
       "      <td>data/GS_predictions/Dataset 30/off/C21H30O5+H.png</td>\n",
       "      <td>off</td>\n",
       "      <td>0.999994</td>\n",
       "    </tr>\n",
       "    <tr>\n",
       "      <th>2</th>\n",
       "      <td>data/GS_predictions/Dataset 30/off/C14H18O3+K.png</td>\n",
       "      <td>off</td>\n",
       "      <td>0.999977</td>\n",
       "    </tr>\n",
       "    <tr>\n",
       "      <th>3</th>\n",
       "      <td>data/GS_predictions/Dataset 30/off/C28H22O3+K.png</td>\n",
       "      <td>off</td>\n",
       "      <td>0.999999</td>\n",
       "    </tr>\n",
       "    <tr>\n",
       "      <th>4</th>\n",
       "      <td>data/GS_predictions/Dataset 30/off/C18H17NO6+K...</td>\n",
       "      <td>off</td>\n",
       "      <td>0.999997</td>\n",
       "    </tr>\n",
       "  </tbody>\n",
       "</table>\n",
       "</div>"
      ],
      "text/plain": [
       "                                                path pred_label  \\\n",
       "0   data/GS_predictions/Dataset 30/off/C18H30O+H.png        off   \n",
       "1  data/GS_predictions/Dataset 30/off/C21H30O5+H.png        off   \n",
       "2  data/GS_predictions/Dataset 30/off/C14H18O3+K.png        off   \n",
       "3  data/GS_predictions/Dataset 30/off/C28H22O3+K.png        off   \n",
       "4  data/GS_predictions/Dataset 30/off/C18H17NO6+K...        off   \n",
       "\n",
       "   off_sample_pred_prob  \n",
       "0              0.995310  \n",
       "1              0.999994  \n",
       "2              0.999977  \n",
       "3              0.999999  \n",
       "4              0.999997  "
      ]
     },
     "execution_count": 175,
     "metadata": {},
     "output_type": "execute_result"
    }
   ],
   "source": [
    "from pathlib import Path\n",
    "import pandas as pd\n",
    "\n",
    "data_path = Path('/tmp/gs_predictions.tsv')\n",
    "df = pd.read_csv(data_path, sep='\\t')\n",
    "print(df.shape)\n",
    "df.head()"
   ]
  },
  {
   "cell_type": "code",
   "execution_count": 176,
   "metadata": {
    "pycharm": {
     "is_executing": false,
     "name": "#%%\n"
    }
   },
   "outputs": [
    {
     "data": {
      "text/plain": [
       "23238"
      ]
     },
     "execution_count": 176,
     "metadata": {},
     "output_type": "execute_result"
    }
   ],
   "source": [
    "import re\n",
    "\n",
    "def split_path(path):\n",
    "    ds, label, formula = path.split('/')[-3:]\n",
    "    ion = Path(formula).stem\n",
    "    formula = re.sub(r'[-+]\\w+', '', ion)\n",
    "    return ds, formula, label\n",
    "\n",
    "rows = df.path.apply(lambda path: split_path(path)).values\n",
    "len(rows)"
   ]
  },
  {
   "cell_type": "code",
   "execution_count": 177,
   "metadata": {
    "pycharm": {
     "is_executing": false,
     "name": "#%%\n"
    }
   },
   "outputs": [
    {
     "data": {
      "text/plain": [
       "(23238, 3)"
      ]
     },
     "execution_count": 177,
     "metadata": {},
     "output_type": "execute_result"
    }
   ],
   "source": [
    "df = pd.DataFrame.from_records(rows, columns=['ds', 'formula', 'label'])\n",
    "df.shape"
   ]
  },
  {
   "cell_type": "code",
   "execution_count": 178,
   "metadata": {},
   "outputs": [
    {
     "data": {
      "text/plain": [
       "87"
      ]
     },
     "execution_count": 178,
     "metadata": {},
     "output_type": "execute_result"
    }
   ],
   "source": [
    "ds_names = df.ds.unique()\n",
    "N = ds_names.shape[0]\n",
    "N"
   ]
  },
  {
   "cell_type": "code",
   "execution_count": 179,
   "metadata": {},
   "outputs": [],
   "source": [
    "def calculate_stats(df):\n",
    "    N = df.ds.unique().shape[0]\n",
    "    \n",
    "    def _calculate_formula_stats(f_df):\n",
    "        off_sample_n = (f_df.label == 'off').sum()\n",
    "        on_sample_n = (f_df.label == 'on').sum()\n",
    "        total_n = f_df.shape[0]\n",
    "        return off_sample_n, on_sample_n, total_n, N, off_sample_n / total_n, off_sample_n / N\n",
    "    \n",
    "    by_formula = df.groupby('formula')\n",
    "    formula_stats = by_formula.apply(_calculate_formula_stats)\n",
    "    stats_columns = [\n",
    "        'off_sample_n', 'on_sample_n', 'local_n', 'global_n', 'local_off_freq', 'global_off_freq'\n",
    "    ]\n",
    "    stats_df = pd.DataFrame.from_records(\n",
    "        formula_stats.values, index=formula_stats.index, columns=stats_columns\n",
    "    )\n",
    "    return stats_df"
   ]
  },
  {
   "cell_type": "code",
   "execution_count": 180,
   "metadata": {},
   "outputs": [
    {
     "data": {
      "text/html": [
       "<div>\n",
       "<style scoped>\n",
       "    .dataframe tbody tr th:only-of-type {\n",
       "        vertical-align: middle;\n",
       "    }\n",
       "\n",
       "    .dataframe tbody tr th {\n",
       "        vertical-align: top;\n",
       "    }\n",
       "\n",
       "    .dataframe thead th {\n",
       "        text-align: right;\n",
       "    }\n",
       "</style>\n",
       "<table border=\"1\" class=\"dataframe\">\n",
       "  <thead>\n",
       "    <tr style=\"text-align: right;\">\n",
       "      <th></th>\n",
       "      <th>off_sample_n</th>\n",
       "      <th>on_sample_n</th>\n",
       "      <th>local_n</th>\n",
       "      <th>global_n</th>\n",
       "      <th>local_off_freq</th>\n",
       "      <th>global_off_freq</th>\n",
       "    </tr>\n",
       "    <tr>\n",
       "      <th>formula</th>\n",
       "      <th></th>\n",
       "      <th></th>\n",
       "      <th></th>\n",
       "      <th></th>\n",
       "      <th></th>\n",
       "      <th></th>\n",
       "    </tr>\n",
       "  </thead>\n",
       "  <tbody>\n",
       "    <tr>\n",
       "      <th>C10H10N2O</th>\n",
       "      <td>2</td>\n",
       "      <td>0</td>\n",
       "      <td>2</td>\n",
       "      <td>87</td>\n",
       "      <td>1.0</td>\n",
       "      <td>0.022989</td>\n",
       "    </tr>\n",
       "    <tr>\n",
       "      <th>C10H10N2O2</th>\n",
       "      <td>1</td>\n",
       "      <td>1</td>\n",
       "      <td>2</td>\n",
       "      <td>87</td>\n",
       "      <td>0.5</td>\n",
       "      <td>0.011494</td>\n",
       "    </tr>\n",
       "    <tr>\n",
       "      <th>C10H10N2OS</th>\n",
       "      <td>0</td>\n",
       "      <td>2</td>\n",
       "      <td>2</td>\n",
       "      <td>87</td>\n",
       "      <td>0.0</td>\n",
       "      <td>0.000000</td>\n",
       "    </tr>\n",
       "    <tr>\n",
       "      <th>C10H10N4O</th>\n",
       "      <td>1</td>\n",
       "      <td>0</td>\n",
       "      <td>1</td>\n",
       "      <td>87</td>\n",
       "      <td>1.0</td>\n",
       "      <td>0.011494</td>\n",
       "    </tr>\n",
       "    <tr>\n",
       "      <th>C10H10N4O2S</th>\n",
       "      <td>2</td>\n",
       "      <td>0</td>\n",
       "      <td>2</td>\n",
       "      <td>87</td>\n",
       "      <td>1.0</td>\n",
       "      <td>0.022989</td>\n",
       "    </tr>\n",
       "    <tr>\n",
       "      <th>...</th>\n",
       "      <td>...</td>\n",
       "      <td>...</td>\n",
       "      <td>...</td>\n",
       "      <td>...</td>\n",
       "      <td>...</td>\n",
       "      <td>...</td>\n",
       "    </tr>\n",
       "    <tr>\n",
       "      <th>C9H9NS</th>\n",
       "      <td>1</td>\n",
       "      <td>0</td>\n",
       "      <td>1</td>\n",
       "      <td>87</td>\n",
       "      <td>1.0</td>\n",
       "      <td>0.011494</td>\n",
       "    </tr>\n",
       "    <tr>\n",
       "      <th>C9HF17O2</th>\n",
       "      <td>0</td>\n",
       "      <td>1</td>\n",
       "      <td>1</td>\n",
       "      <td>87</td>\n",
       "      <td>0.0</td>\n",
       "      <td>0.000000</td>\n",
       "    </tr>\n",
       "    <tr>\n",
       "      <th>CH3O5P</th>\n",
       "      <td>0</td>\n",
       "      <td>3</td>\n",
       "      <td>3</td>\n",
       "      <td>87</td>\n",
       "      <td>0.0</td>\n",
       "      <td>0.000000</td>\n",
       "    </tr>\n",
       "    <tr>\n",
       "      <th>CHBr3</th>\n",
       "      <td>1</td>\n",
       "      <td>0</td>\n",
       "      <td>1</td>\n",
       "      <td>87</td>\n",
       "      <td>1.0</td>\n",
       "      <td>0.011494</td>\n",
       "    </tr>\n",
       "    <tr>\n",
       "      <th>CHCl3</th>\n",
       "      <td>0</td>\n",
       "      <td>2</td>\n",
       "      <td>2</td>\n",
       "      <td>87</td>\n",
       "      <td>0.0</td>\n",
       "      <td>0.000000</td>\n",
       "    </tr>\n",
       "  </tbody>\n",
       "</table>\n",
       "<p>6578 rows × 6 columns</p>\n",
       "</div>"
      ],
      "text/plain": [
       "             off_sample_n  on_sample_n  local_n  global_n  local_off_freq  \\\n",
       "formula                                                                     \n",
       "C10H10N2O               2            0        2        87             1.0   \n",
       "C10H10N2O2              1            1        2        87             0.5   \n",
       "C10H10N2OS              0            2        2        87             0.0   \n",
       "C10H10N4O               1            0        1        87             1.0   \n",
       "C10H10N4O2S             2            0        2        87             1.0   \n",
       "...                   ...          ...      ...       ...             ...   \n",
       "C9H9NS                  1            0        1        87             1.0   \n",
       "C9HF17O2                0            1        1        87             0.0   \n",
       "CH3O5P                  0            3        3        87             0.0   \n",
       "CHBr3                   1            0        1        87             1.0   \n",
       "CHCl3                   0            2        2        87             0.0   \n",
       "\n",
       "             global_off_freq  \n",
       "formula                       \n",
       "C10H10N2O           0.022989  \n",
       "C10H10N2O2          0.011494  \n",
       "C10H10N2OS          0.000000  \n",
       "C10H10N4O           0.011494  \n",
       "C10H10N4O2S         0.022989  \n",
       "...                      ...  \n",
       "C9H9NS              0.011494  \n",
       "C9HF17O2            0.000000  \n",
       "CH3O5P              0.000000  \n",
       "CHBr3               0.011494  \n",
       "CHCl3               0.000000  \n",
       "\n",
       "[6578 rows x 6 columns]"
      ]
     },
     "execution_count": 180,
     "metadata": {},
     "output_type": "execute_result"
    }
   ],
   "source": [
    "stats_df = calculate_stats(df)\n",
    "stats_df"
   ]
  },
  {
   "cell_type": "code",
   "execution_count": null,
   "metadata": {},
   "outputs": [],
   "source": []
  },
  {
   "cell_type": "markdown",
   "metadata": {
    "heading_collapsed": true
   },
   "source": [
    "# Get Dataset Metadata"
   ]
  },
  {
   "cell_type": "code",
   "execution_count": 111,
   "metadata": {
    "hidden": true
   },
   "outputs": [],
   "source": [
    "from metaspace.sm_annotation_utils import SMInstance"
   ]
  },
  {
   "cell_type": "code",
   "execution_count": 112,
   "metadata": {
    "hidden": true
   },
   "outputs": [],
   "source": [
    "sm = SMInstance()"
   ]
  },
  {
   "cell_type": "code",
   "execution_count": 61,
   "metadata": {
    "hidden": true
   },
   "outputs": [
    {
     "name": "stdout",
     "output_type": "stream",
     "text": [
      "CPU times: user 217 ms, sys: 43.6 ms, total: 260 ms\n",
      "Wall time: 6.04 s\n"
     ]
    }
   ],
   "source": [
    "%time all_dss = sm._gqclient.getDatasets()"
   ]
  },
  {
   "cell_type": "code",
   "execution_count": 113,
   "metadata": {
    "hidden": true
   },
   "outputs": [
    {
     "data": {
      "text/plain": [
       "3923"
      ]
     },
     "execution_count": 113,
     "metadata": {},
     "output_type": "execute_result"
    }
   ],
   "source": [
    "len(all_dss)"
   ]
  },
  {
   "cell_type": "code",
   "execution_count": 94,
   "metadata": {
    "hidden": true
   },
   "outputs": [
    {
     "data": {
      "text/plain": [
       "87"
      ]
     },
     "execution_count": 94,
     "metadata": {},
     "output_type": "execute_result"
    }
   ],
   "source": [
    "_ds_names = [name.replace('__', '//').replace('m_z', 'm/z') for name in ds_names]\n",
    "len(_ds_names)"
   ]
  },
  {
   "cell_type": "code",
   "execution_count": 97,
   "metadata": {
    "hidden": true
   },
   "outputs": [],
   "source": [
    "ds_df = pd.DataFrame(all_dss)\n",
    "ds_df = ds_df[ds_df.name.isin(_ds_names)].drop_duplicates(subset=['name'])\n",
    "ds_df = ds_df[['id', 'name', 'ionisationSource', 'maldiMatrix']]\n",
    "ds_df.shape"
   ]
  },
  {
   "cell_type": "code",
   "execution_count": 110,
   "metadata": {
    "hidden": true
   },
   "outputs": [
    {
     "data": {
      "text/html": [
       "<div>\n",
       "<style scoped>\n",
       "    .dataframe tbody tr th:only-of-type {\n",
       "        vertical-align: middle;\n",
       "    }\n",
       "\n",
       "    .dataframe tbody tr th {\n",
       "        vertical-align: top;\n",
       "    }\n",
       "\n",
       "    .dataframe thead th {\n",
       "        text-align: right;\n",
       "    }\n",
       "</style>\n",
       "<table border=\"1\" class=\"dataframe\">\n",
       "  <thead>\n",
       "    <tr style=\"text-align: right;\">\n",
       "      <th></th>\n",
       "      <th>id</th>\n",
       "      <th>name</th>\n",
       "      <th>ionisationSource</th>\n",
       "      <th>maldiMatrix</th>\n",
       "    </tr>\n",
       "  </thead>\n",
       "  <tbody>\n",
       "    <tr>\n",
       "      <th>269</th>\n",
       "      <td>2017-08-03_18h26m57s</td>\n",
       "      <td>Mouse_Wholebody_3</td>\n",
       "      <td>IRMALDESI</td>\n",
       "      <td>none</td>\n",
       "    </tr>\n",
       "    <tr>\n",
       "      <th>271</th>\n",
       "      <td>2017-05-03_17h59m31s</td>\n",
       "      <td>NCSU_M8_mouse_brain</td>\n",
       "      <td>IRMALDESI</td>\n",
       "      <td>none</td>\n",
       "    </tr>\n",
       "    <tr>\n",
       "      <th>785</th>\n",
       "      <td>2018-12-18_16h19m20s</td>\n",
       "      <td>Row001</td>\n",
       "      <td>DESI</td>\n",
       "      <td>none</td>\n",
       "    </tr>\n",
       "    <tr>\n",
       "      <th>848</th>\n",
       "      <td>2016-10-13_14h06m49s</td>\n",
       "      <td>MPIMM_021_QE_P_CB_0</td>\n",
       "      <td>MALDI</td>\n",
       "      <td>2,5-dihydroxybenzoic acid (DHB)</td>\n",
       "    </tr>\n",
       "    <tr>\n",
       "      <th>849</th>\n",
       "      <td>2016-10-04_14h16m23s</td>\n",
       "      <td>S649 WS21 155x105 15um E110</td>\n",
       "      <td>MALDI</td>\n",
       "      <td>2,5-dihydroxybenzoic acid (DHB)</td>\n",
       "    </tr>\n",
       "    <tr>\n",
       "      <th>...</th>\n",
       "      <td>...</td>\n",
       "      <td>...</td>\n",
       "      <td>...</td>\n",
       "      <td>...</td>\n",
       "    </tr>\n",
       "    <tr>\n",
       "      <th>2802</th>\n",
       "      <td>2017-09-05_16h22m52s</td>\n",
       "      <td>20170905_CGL0170817_MT-MB_ATP_N_81x101_135x135</td>\n",
       "      <td>MALDI</td>\n",
       "      <td>1,5-diaminonaphthalene (DAN)</td>\n",
       "    </tr>\n",
       "    <tr>\n",
       "      <th>3162</th>\n",
       "      <td>2017-10-26_14h25m14s</td>\n",
       "      <td>BRB04S-RECAL</td>\n",
       "      <td>DESI</td>\n",
       "      <td>N/A</td>\n",
       "    </tr>\n",
       "    <tr>\n",
       "      <th>3377</th>\n",
       "      <td>2017-11-16_16h35m58s</td>\n",
       "      <td>LNTO31_17_1-RECAL</td>\n",
       "      <td>DESI</td>\n",
       "      <td>N/A</td>\n",
       "    </tr>\n",
       "    <tr>\n",
       "      <th>3581</th>\n",
       "      <td>2018-01-17_13h29m23s</td>\n",
       "      <td>DESI porcine kidney interface region</td>\n",
       "      <td>DESI</td>\n",
       "      <td>none</td>\n",
       "    </tr>\n",
       "    <tr>\n",
       "      <th>3676</th>\n",
       "      <td>2018-02-21_12h05m43s</td>\n",
       "      <td>20180220_mouse eye_DHB</td>\n",
       "      <td>MALDI</td>\n",
       "      <td>2,5-dihydroxyacetophenone (DHA)</td>\n",
       "    </tr>\n",
       "  </tbody>\n",
       "</table>\n",
       "<p>87 rows × 4 columns</p>\n",
       "</div>"
      ],
      "text/plain": [
       "                        id                                            name  \\\n",
       "269   2017-08-03_18h26m57s                               Mouse_Wholebody_3   \n",
       "271   2017-05-03_17h59m31s                             NCSU_M8_mouse_brain   \n",
       "785   2018-12-18_16h19m20s                                          Row001   \n",
       "848   2016-10-13_14h06m49s                             MPIMM_021_QE_P_CB_0   \n",
       "849   2016-10-04_14h16m23s                     S649 WS21 155x105 15um E110   \n",
       "...                    ...                                             ...   \n",
       "2802  2017-09-05_16h22m52s  20170905_CGL0170817_MT-MB_ATP_N_81x101_135x135   \n",
       "3162  2017-10-26_14h25m14s                                    BRB04S-RECAL   \n",
       "3377  2017-11-16_16h35m58s                               LNTO31_17_1-RECAL   \n",
       "3581  2018-01-17_13h29m23s            DESI porcine kidney interface region   \n",
       "3676  2018-02-21_12h05m43s                          20180220_mouse eye_DHB   \n",
       "\n",
       "     ionisationSource                      maldiMatrix  \n",
       "269         IRMALDESI                             none  \n",
       "271         IRMALDESI                             none  \n",
       "785              DESI                             none  \n",
       "848             MALDI  2,5-dihydroxybenzoic acid (DHB)  \n",
       "849             MALDI  2,5-dihydroxybenzoic acid (DHB)  \n",
       "...               ...                              ...  \n",
       "2802            MALDI     1,5-diaminonaphthalene (DAN)  \n",
       "3162             DESI                              N/A  \n",
       "3377             DESI                              N/A  \n",
       "3581             DESI                             none  \n",
       "3676            MALDI  2,5-dihydroxyacetophenone (DHA)  \n",
       "\n",
       "[87 rows x 4 columns]"
      ]
     },
     "execution_count": 110,
     "metadata": {},
     "output_type": "execute_result"
    }
   ],
   "source": [
    "ds_df"
   ]
  },
  {
   "cell_type": "code",
   "execution_count": 114,
   "metadata": {
    "hidden": true
   },
   "outputs": [
    {
     "data": {
      "text/plain": [
       "array(['IRMALDESI', 'DESI', 'MALDI'], dtype=object)"
      ]
     },
     "execution_count": 114,
     "metadata": {},
     "output_type": "execute_result"
    }
   ],
   "source": [
    "ds_df.ionisationSource.unique()"
   ]
  },
  {
   "cell_type": "code",
   "execution_count": 115,
   "metadata": {
    "hidden": true
   },
   "outputs": [
    {
     "data": {
      "text/plain": [
       "array(['none', '2,5-dihydroxybenzoic acid (DHB)', 'Norharmane',\n",
       "       'n-(1-naphthyl)ethylenediamine dihydrochloride (NEDC)', 'BPYN',\n",
       "       'alpha-cyano-4-hydroxycinnamic acid (CHCA)',\n",
       "       '1,5-diaminonaphthalene (DAN)', 'N/A', '9-aminoacridine (9AA)',\n",
       "       '2,5-dihydroxyacetophenone (DHA)'], dtype=object)"
      ]
     },
     "execution_count": 115,
     "metadata": {},
     "output_type": "execute_result"
    }
   ],
   "source": [
    "ds_df.maldiMatrix.unique()"
   ]
  },
  {
   "cell_type": "code",
   "execution_count": 120,
   "metadata": {
    "hidden": true
   },
   "outputs": [],
   "source": [
    "def encode_ds_name(name):\n",
    "    return name.replace('/', '_')"
   ]
  },
  {
   "cell_type": "code",
   "execution_count": 123,
   "metadata": {
    "hidden": true
   },
   "outputs": [
    {
     "data": {
      "text/plain": [
       "59"
      ]
     },
     "execution_count": 123,
     "metadata": {},
     "output_type": "execute_result"
    }
   ],
   "source": [
    "maldi_ds_names = [encode_ds_name(name) for name in ds_df[ds_df.ionisationSource == 'MALDI'].name.values]\n",
    "len(maldi_ds_names)"
   ]
  },
  {
   "cell_type": "code",
   "execution_count": 125,
   "metadata": {
    "hidden": true
   },
   "outputs": [
    {
     "data": {
      "text/plain": [
       "24"
      ]
     },
     "execution_count": 125,
     "metadata": {},
     "output_type": "execute_result"
    }
   ],
   "source": [
    "desi_ds_names = [encode_ds_name(name) for name in ds_df[ds_df.ionisationSource == 'DESI'].name.values]\n",
    "len(desi_ds_names)"
   ]
  },
  {
   "cell_type": "code",
   "execution_count": 126,
   "metadata": {
    "hidden": true
   },
   "outputs": [
    {
     "data": {
      "text/plain": [
       "31"
      ]
     },
     "execution_count": 126,
     "metadata": {},
     "output_type": "execute_result"
    }
   ],
   "source": [
    "_ds_name_mask = (ds_df.ionisationSource == 'MALDI')&(ds_df.maldiMatrix == '2,5-dihydroxybenzoic acid (DHB)')\n",
    "maldi_dhb_ds_names = [encode_ds_name(name) for name in ds_df[_ds_name_mask].name.values]\n",
    "len(maldi_dhb_ds_names)"
   ]
  },
  {
   "cell_type": "markdown",
   "metadata": {},
   "source": [
    "# Get Annotation Off-sample Stats for Groups"
   ]
  },
  {
   "cell_type": "code",
   "execution_count": 181,
   "metadata": {},
   "outputs": [
    {
     "name": "stdout",
     "output_type": "stream",
     "text": [
      "59\n",
      "(16344, 3)\n",
      "(5424, 6)\n",
      "24\n",
      "(5764, 3)\n",
      "(2348, 6)\n",
      "31\n",
      "(8582, 3)\n",
      "(3612, 6)\n"
     ]
    }
   ],
   "source": [
    "ds_groups_mapping = [('MALDI', maldi_ds_names), ('DESI', desi_ds_names), ('MALDI_DHB', maldi_dhb_ds_names)]\n",
    "\n",
    "for ds_group_name, ds_group in ds_groups_mapping:\n",
    "    print(len(ds_group))\n",
    "    \n",
    "    print(df[df.ds.isin(ds_group)].shape)\n",
    "    \n",
    "    stats_df = calculate_stats(df[df.ds.isin(ds_group)])\n",
    "    print(stats_df.shape)\n",
    "    \n",
    "    stats_df.to_csv(f'off-sample-formula-stats-{ds_group_name}.csv', sep='\\t')"
   ]
  },
  {
   "cell_type": "code",
   "execution_count": null,
   "metadata": {},
   "outputs": [],
   "source": []
  }
 ],
 "metadata": {
  "kernelspec": {
   "display_name": "sm",
   "language": "python",
   "name": "sm"
  },
  "language_info": {
   "codemirror_mode": {
    "name": "ipython",
    "version": 3
   },
   "file_extension": ".py",
   "mimetype": "text/x-python",
   "name": "python",
   "nbconvert_exporter": "python",
   "pygments_lexer": "ipython3",
   "version": "3.6.2"
  },
  "pycharm": {
   "stem_cell": {
    "cell_type": "raw",
    "metadata": {
     "collapsed": false
    },
    "source": []
   }
  }
 },
 "nbformat": 4,
 "nbformat_minor": 1
}
