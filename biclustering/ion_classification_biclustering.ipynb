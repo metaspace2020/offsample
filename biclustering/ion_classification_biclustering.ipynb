{
 "cells": [
  {
   "cell_type": "code",
   "execution_count": 4,
   "metadata": {},
   "outputs": [],
   "source": [
    "import pandas as pd\n",
    "import os\n",
    "from os import path\n",
    "%matplotlib inline\n",
    "import matplotlib.pyplot as plt\n",
    "import numpy as np\n",
    "from numpy import percentile\n",
    "import datetime\n",
    "from sklearn.cluster.bicluster import SpectralCoclustering\n",
    "from sklearn.metrics import accuracy_score, f1_score, precision_score, recall_score\n",
    "from imblearn.metrics import classification_report_imbalanced\n",
    "from scipy.sparse import csr_matrix\n",
    "\n",
    "base_path = '/data/pixel-annot-export-v0.9/'\n",
    "ann_path = path.join(base_path, 'pixel_df_list/')\n",
    "\n",
    "ds_df_path = path.join(base_path, 'ds_df.msgpack')\n",
    "ds_df = pd.read_msgpack(ds_df_path)\n",
    "\n",
    "ion_df_path = path.join(base_path, 'ion_df.msgpack')\n",
    "ion_df = pd.read_msgpack(ion_df_path)\n",
    "\n",
    "formula_df_path = path.join(base_path, 'formula_df.msgpack')\n",
    "formula_df = pd.read_msgpack(formula_df_path)\n",
    "\n",
    "gs_path = '/data/katya/offsample_gs/GS.csv'\n",
    "gs_df = pd.read_csv(gs_path)\n",
    "\n",
    "sim_features_dir = '/data/katya/offsample_gs_vectors'"
   ]
  },
  {
   "cell_type": "code",
   "execution_count": 5,
   "metadata": {
    "collapsed": true
   },
   "outputs": [],
   "source": [
    "def biclustering(arr, n_clusters):\n",
    "    clustering = SpectralCoclustering(n_clusters=n_clusters, mini_batch=False, n_jobs=-1, random_state=1).fit(arr)\n",
    "    return clustering"
   ]
  },
  {
   "cell_type": "code",
   "execution_count": 6,
   "metadata": {
    "collapsed": true
   },
   "outputs": [],
   "source": [
    "# Remove hotspots from dataframe\n",
    "def hotspot_removal(input_df, p):\n",
    "    q = input_df.int.quantile(p)\n",
    "    input_df.loc[input_df['int'] > q, 'int'] = q\n",
    "    return input_df"
   ]
  },
  {
   "cell_type": "code",
   "execution_count": 7,
   "metadata": {
    "collapsed": true
   },
   "outputs": [],
   "source": [
    "def draw_image(ion_sub_df, max_x, max_y, hotspot = True, full = True):\n",
    "    if hotspot: ion_sub_df = hotspot_removal(ion_sub_df, .99)\n",
    "    \n",
    "    arr = np.zeros([max_x+1, max_y+1])\n",
    "    \n",
    "    for _, row in ion_sub_df.groupby(['x','y']):\n",
    "        if full: arr[row.x.values[0]][row.y.values[0]] = row.int.values[0]\n",
    "        else: arr[row.x.values[0]][row.y.values[0]] = 1\n",
    "        \n",
    "    arr = np.rot90(arr, 1)\n",
    "    plt.pcolormesh(arr,cmap='viridis')\n",
    "    plt.axes().set_aspect('equal', 'datalim')\n",
    "    plt.axes().axis('off')\n",
    "    plt.show()"
   ]
  },
  {
   "cell_type": "code",
   "execution_count": 8,
   "metadata": {
    "collapsed": true
   },
   "outputs": [],
   "source": [
    "def draw_clusters(clusters, coord_x, coord_y):    \n",
    "    img = pd.pivot(coord_y, coord_x, clusters).fillna(-1).values\n",
    "    plt.pcolormesh(img,cmap='viridis')\n",
    "    plt.axes().set_aspect('equal', 'datalim')\n",
    "    plt.axes().axis('off')\n",
    "    plt.show()"
   ]
  },
  {
   "cell_type": "code",
   "execution_count": 9,
   "metadata": {
    "collapsed": true
   },
   "outputs": [],
   "source": [
    "# Find border pixels\n",
    "import cv2\n",
    "from pylab import *\n",
    "\n",
    "non_perim_tolerance = 5\n",
    "out_frame_width = 1\n",
    "\n",
    "def find_border_pixels(coord_df):\n",
    "    max_x = coord_df['x'].max()\n",
    "    max_y = coord_df['y'].max()\n",
    "    \n",
    "    min_x = coord_df['x'].min()\n",
    "    min_y = coord_df['y'].min() \n",
    "       \n",
    "    border_df = coord_df[(coord_df['x']==min_x) | (coord_df['y']==min_y)| (coord_df['x']==max_x) | (coord_df['y']==max_y)]    \n",
    "    \n",
    "    perim = 2*(max_x+1 + max_y+1) - 4\n",
    "    \n",
    "    # Check if the image is rectangular: \n",
    "    # the number of min and max pixels correspond to the length of the perimeter with tolerance non_perim_tolerance\n",
    "    # If it's rectangular, return the perimeter with width out_frame_width\n",
    "    if(abs(len(border_df.index.tolist()) - perim)<non_perim_tolerance):\n",
    "        out_coord_df = border_df\n",
    "    # For non-rectangular images, compute border\n",
    "    else:\n",
    "        arr = np.zeros((max_y+1, max_x+1), dtype = np.uint8)\n",
    "        for (x,y), row in coord_df.groupby(['x','y']):\n",
    "            arr[y][x] = 255\n",
    "        im2, contours, hierarchy = cv2.findContours(arr,cv2.RETR_EXTERNAL,cv2.CHAIN_APPROX_NONE)        \n",
    "        \n",
    "        out_coord_df = pd.DataFrame(columns=['x', 'y']) \n",
    "        for c in contours:\n",
    "            c = c.reshape(c.shape[0], 2)\n",
    "            res_df = pd.DataFrame(c, columns=['x', 'y']) \n",
    "            out_coord_df = out_coord_df.append(res_df)\n",
    "        y_zero = np.where(~arr.any(axis=1))[0] \n",
    "        x_zero = np.where(~arr.any(axis=0))[0]\n",
    "        x_exclude = (x_zero + 1).tolist() + (x_zero - 1).tolist()\n",
    "        y_exclude = (y_zero + 1).tolist() + (y_zero - 1).tolist()\n",
    "        out_coord_df = out_coord_df[(~out_coord_df['x'].isin(x_exclude)) & (~out_coord_df['y'].isin(y_exclude))]\n",
    "        \n",
    "    out_coord_df = out_coord_df.drop_duplicates()[['x', 'y']]\n",
    "    out_coord_df['bord'] = True\n",
    "    return out_coord_df"
   ]
  },
  {
   "cell_type": "code",
   "execution_count": 10,
   "metadata": {
    "collapsed": true
   },
   "outputs": [],
   "source": [
    "# Get ion indices from dataframe\n",
    "def get_ion_ind_df(ds_rows):\n",
    "    result = []\n",
    "    for _, row in ds_rows.iterrows():\n",
    "        ion_ind_list = ion_df[ion_df.formula == row.sumFormula][ion_df.adduct == row.adduct].index.tolist()\n",
    "        if len(ion_ind_list) == 0:\n",
    "            print('No ion in the dictionary: ', sf, adduct)\n",
    "        else:\n",
    "            ion_ind = int(ion_ind_list[0])\n",
    "            result.append(ion_ind)\n",
    "    return result"
   ]
  },
  {
   "cell_type": "code",
   "execution_count": 11,
   "metadata": {
    "collapsed": true
   },
   "outputs": [],
   "source": [
    "def find_clusters(pix_ion_matrix, coord_df):\n",
    "    n_clusters = range(2,15)\n",
    "    for n in n_clusters:\n",
    "        clustering = biclustering(pix_ion_matrix, n)\n",
    "        pixel_clusters = clustering.row_labels_\n",
    "        coord_df['cluster'] = pixel_clusters\n",
    "        \n",
    "        unique, counts = np.unique(pixel_clusters, return_counts=True)\n",
    "        w_counts = counts / pixel_clusters.shape[0]\n",
    "        valid_clusters = []\n",
    "        small_clusters = []\n",
    "        \n",
    "        for i in range(0, len(w_counts)):\n",
    "            c = unique[i]\n",
    "            w = w_counts[i]\n",
    "            if w > 0.09:\n",
    "                valid_clusters.append(c)\n",
    "            else: \n",
    "                c_bord = coord_df[(coord_df.cluster==c) & (~coord_df['bord'].isnull())].shape[0]\n",
    "                bord = coord_df[~coord_df['bord'].isnull()].shape[0]\n",
    "                if c_bord/bord > 0.6:\n",
    "                    valid_clusters.append(c)\n",
    "                else: \n",
    "                    small_clusters.append(c)\n",
    "        if len(valid_clusters) >= 2: break\n",
    "    \n",
    "    return (valid_clusters, small_clusters, coord_df, pixel_clusters, clustering)"
   ]
  },
  {
   "cell_type": "code",
   "execution_count": 12,
   "metadata": {
    "collapsed": true
   },
   "outputs": [],
   "source": [
    "import skimage\n",
    "from skimage import measure\n",
    "\n",
    "def cluster_classification(pixel_df, coord_df, ann_ions):  \n",
    "    max_x = pixel_df['x'].max()\n",
    "    max_y = pixel_df['y'].max()\n",
    "            \n",
    "    pixel_df = pixel_df.assign(p_ind = pixel_df.y.astype(np.int32) + (pixel_df.x.astype(np.int32) * (max_y + 1)))\n",
    "    \n",
    "    ions = pixel_df.ion_ind.unique().tolist()\n",
    "    \n",
    "    i_dict = dict(zip(ions, range(0, len(ions))))\n",
    "    pixel_df['ion_ind'] = pixel_df['ion_ind'].map(i_dict.get)\n",
    "    \n",
    "    if(len(pixel_df.p_ind.unique())<pixel_df.p_ind.max()+1):\n",
    "        p_dict = dict(zip(pixel_df.p_ind.unique().tolist(), range(0, len(pixel_df.p_ind.unique()))))\n",
    "        pixel_df['p_ind'] = pixel_df['p_ind'].map(p_dict.get)\n",
    "    \n",
    "    pix_ion_matrix = csr_matrix((pixel_df.int.values, (pixel_df.p_ind.values, pixel_df.ion_ind.values))) \n",
    "    print('matrix generated', pix_ion_matrix.shape)\n",
    "        \n",
    "    (valid_clusters, small_clusters, coord_df, pixel_clusters, clustering) = find_clusters(pix_ion_matrix, coord_df)\n",
    "    \n",
    "    if len(small_clusters)>0:\n",
    "        pix_ion_matrix.data = np.log10(pix_ion_matrix.data) + 10\n",
    "        (valid_clusters, small_clusters, coord_df, pixel_clusters, clustering) = find_clusters(pix_ion_matrix, coord_df)\n",
    "        \n",
    "    noisy_clusters = False\n",
    "    \n",
    "    #CHECK NOISY CLUSTERS\n",
    "    bi_pix_clusters = np.copy(pixel_clusters)\n",
    "    bi_pix_clusters[bi_pix_clusters==valid_clusters[0]] = 1000\n",
    "    bi_pix_clusters[bi_pix_clusters==valid_clusters[1]] = 2000\n",
    "    bi_pix_clusters[bi_pix_clusters<=1000] = 0\n",
    "    bi_pix_clusters[bi_pix_clusters==2000] = 1\n",
    "    img = pd.pivot(coord_df.y.values, coord_df.x.values, bi_pix_clusters).fillna(0).values\n",
    "    per = skimage.measure.perimeter(img)\n",
    "    snr = per/coord_df.shape[0]\n",
    "    print('SNR for clusters =', snr)\n",
    "    if snr>0.22:\n",
    "        bad_ions = filter_ions(pixel_df)\n",
    "        filtered_pixel_df = pixel_df[pixel_df.ion_ind.isin(bad_ions)]\n",
    "        pix_ion_matrix[filtered_pixel_df.p_ind.values, filtered_pixel_df.ion_ind.values] = 0.00000000001\n",
    "        (valid_clusters, small_clusters, coord_df, pixel_clusters, clustering) = find_clusters(pix_ion_matrix, coord_df)\n",
    "    \n",
    "    draw_clusters(pixel_clusters, coord_df.x.values, coord_df.y.values)\n",
    "    \n",
    "    if len(valid_clusters)<2: print('BAD clusters')\n",
    "    if len(valid_clusters)>2: print('MORE valid clusters', len(valid_clusters))\n",
    "    \n",
    "    print('clusters found, n =', len(valid_clusters+small_clusters))\n",
    "    \n",
    "    on_clusters = []\n",
    "    off_clusters = []\n",
    "    \n",
    "    #large cluster classification\n",
    "    c0_bord = coord_df[(coord_df.cluster==valid_clusters[0]) & (~coord_df['bord'].isnull())].shape[0]\n",
    "    c1_bord = coord_df[(coord_df.cluster==valid_clusters[1]) & (~coord_df['bord'].isnull())].shape[0]\n",
    "    if ds_name in swap_clusters:\n",
    "        tmp = c0_bord\n",
    "        c0_bord = c1_bord\n",
    "        c1_bord = tmp\n",
    "                \n",
    "    if c0_bord > c1_bord: \n",
    "        off_clusters.append(valid_clusters[0])\n",
    "        on_clusters.append(valid_clusters[1])\n",
    "    else:\n",
    "        on_clusters.append(valid_clusters[0])\n",
    "        off_clusters.append(valid_clusters[1])\n",
    "    \n",
    "    #small cluster classification\n",
    "    small_on_clusters = []\n",
    "    small_off_clusters = []\n",
    "    for c in small_clusters:\n",
    "        c_bord = coord_df[(coord_df.cluster==c) & (~coord_df['bord'].isnull())].shape[0]\n",
    "        c_full = coord_df[(coord_df.cluster==c)].shape[0]\n",
    "        if c_full == 0: \n",
    "            small_on_clusters.append(c)\n",
    "            continue\n",
    "        bord = coord_df[~coord_df['bord'].isnull()].shape[0]\n",
    "        if c_bord/bord > 0.1 or c_bord/c_full > 0.1: small_off_clusters.append(c)\n",
    "        else: small_on_clusters.append(c)\n",
    "        \n",
    "    ann_ions = [i_dict[ion_ind] for ion_ind in ann_ions]\n",
    "    ion_clusters = []\n",
    "    for i in ann_ions:\n",
    "        i_c = clustering.column_labels_[i]\n",
    "        if i_c in off_clusters: ion_clusters.append(1)\n",
    "        elif i_c in on_clusters: ion_clusters.append(0)\n",
    "        elif i_c in small_off_clusters: ion_clusters.append(1)\n",
    "        else: ion_clusters.append(0)\n",
    "                                        \n",
    "    return (True, ion_clusters)"
   ]
  },
  {
   "cell_type": "code",
   "execution_count": 13,
   "metadata": {
    "collapsed": true
   },
   "outputs": [],
   "source": [
    "def signaltonoise(a, axis=0, ddof=0):\n",
    "    a = np.asanyarray(a)\n",
    "    m = a.mean(axis)\n",
    "    sd = a.std(axis=axis, ddof=ddof)\n",
    "    return np.where(sd == 0, 0, m/sd)"
   ]
  },
  {
   "cell_type": "code",
   "execution_count": 14,
   "metadata": {
    "collapsed": true
   },
   "outputs": [],
   "source": [
    "def filter_ions(pixel_df):\n",
    "    bad_ions = []\n",
    "    for ion_ind, ion_rows in pixel_df.groupby('ion_ind'):\n",
    "        snr = signaltonoise(ion_rows.int.values)\n",
    "        if snr>=1: bad_ions.append(ion_ind)\n",
    "        #else: draw_image(ion_rows, pixel_df.x.max(), pixel_df.y.max())\n",
    "    print('BAD IONS =', len(bad_ions))\n",
    "    return bad_ions"
   ]
  },
  {
   "cell_type": "code",
   "execution_count": 16,
   "metadata": {},
   "outputs": [
    {
     "name": "stdout",
     "output_type": "stream",
     "text": [
      "510 AstraZeneca//CT26_xenograft\n",
      "border found\n"
     ]
    },
    {
     "name": "stderr",
     "output_type": "stream",
     "text": [
      "/usr/local/lib/python3.4/dist-packages/ipykernel_launcher.py:5: UserWarning: Boolean Series key will be reindexed to match DataFrame index.\n",
      "  \"\"\"\n"
     ]
    },
    {
     "name": "stdout",
     "output_type": "stream",
     "text": [
      "matrix generated (50652, 4083)\n",
      "SNR for clusters = 0.04646103552159408\n"
     ]
    },
    {
     "data": {
      "image/png": "[encoded data removed]",
      "text/plain": [
       "<matplotlib.figure.Figure at 0x7f27abcb0f98>"
      ]
     },
     "metadata": {},
     "output_type": "display_data"
    },
    {
     "name": "stdout",
     "output_type": "stream",
     "text": [
      "clusters found, n = 2\n",
      "[1] []\n",
      "                   pre       rec       spe        f1       geo       iba       sup\n",
      "\n",
      "  On sample       1.00      0.99      1.00      0.99      0.99      0.98       140\n",
      " Off sample       0.97      1.00      0.99      0.98      0.99      0.99        65\n",
      "\n",
      "avg / total       0.99      0.99      1.00      0.99      0.99      0.99       205\n",
      "\n",
      "497 AstraZeneca//Rat_testis\n",
      "border found\n",
      "matrix generated (21420, 2552)\n",
      "SNR for clusters = 0.023391681571232753\n"
     ]
    },
    {
     "data": {
      "image/png": "[encoded data removed]",
      "text/plain": [
       "<matplotlib.figure.Figure at 0x7f27f8c14080>"
      ]
     },
     "metadata": {},
     "output_type": "display_data"
    },
    {
     "name": "stdout",
     "output_type": "stream",
     "text": [
      "clusters found, n = 2\n",
      "[0] []\n",
      "                   pre       rec       spe        f1       geo       iba       sup\n",
      "\n",
      "  On sample       0.91      0.99      0.94      0.95      0.96      0.93       154\n",
      " Off sample       0.99      0.94      0.99      0.96      0.96      0.92       247\n",
      "\n",
      "avg / total       0.96      0.96      0.97      0.96      0.96      0.93       401\n",
      "\n",
      "848 ICL//7TopRight,_17BottomRight,_27BottomLeft,_37TopLeft\n",
      "border found\n",
      "matrix generated (19992, 500)\n",
      "SNR for clusters = 0.045193717789788805\n"
     ]
    },
    {
     "data": {
      "image/png": "[encoded data removed]",
      "text/plain": [
       "<matplotlib.figure.Figure at 0x7f27ac0e1240>"
      ]
     },
     "metadata": {},
     "output_type": "display_data"
    },
    {
     "name": "stdout",
     "output_type": "stream",
     "text": [
      "clusters found, n = 2\n",
      "[0] []\n",
      "                   pre       rec       spe        f1       geo       iba       sup\n",
      "\n",
      "  On sample       1.00      1.00      1.00      1.00      1.00      1.00       266\n",
      " Off sample       0.98      1.00      1.00      0.99      1.00      1.00        49\n",
      "\n",
      "avg / total       1.00      1.00      1.00      1.00      1.00      1.00       315\n",
      "\n",
      "511 UoNotreDame//Untreated_6_574\n",
      "border found\n",
      "matrix generated (5354, 829)\n",
      "SNR for clusters = 0.10738667690920634\n"
     ]
    },
    {
     "data": {
      "image/png": "[encoded data removed]",
      "text/plain": [
       "<matplotlib.figure.Figure at 0x7f27ab459ef0>"
      ]
     },
     "metadata": {},
     "output_type": "display_data"
    },
    {
     "name": "stdout",
     "output_type": "stream",
     "text": [
      "clusters found, n = 2\n",
      "[1] []\n",
      "                   pre       rec       spe        f1       geo       iba       sup\n",
      "\n",
      "  On sample       1.00      1.00      0.99      1.00      1.00      0.99       210\n",
      " Off sample       1.00      0.99      1.00      1.00      1.00      0.99       101\n",
      "\n",
      "avg / total       1.00      1.00      0.99      1.00      1.00      0.99       311\n",
      "\n",
      "290 North Carolina State University//mouse body\n",
      "border found\n",
      "matrix generated (32060, 7571)\n",
      "SNR for clusters = 0.17717837284849886\n"
     ]
    },
    {
     "data": {
      "image/png": "[encoded data removed]",
      "text/plain": [
       "<matplotlib.figure.Figure at 0x7f27f83eeeb8>"
      ]
     },
     "metadata": {},
     "output_type": "display_data"
    },
    {
     "name": "stdout",
     "output_type": "stream",
     "text": [
      "clusters found, n = 4\n",
      "1 0 734 0.0 0.0\n",
      "2 0 734 0.0 0.0\n",
      "[4] []\n",
      "                   pre       rec       spe        f1       geo       iba       sup\n",
      "\n",
      "  On sample       0.98      0.92      0.99      0.95      0.95      0.90       102\n",
      " Off sample       0.94      0.99      0.92      0.96      0.95      0.91       137\n",
      "\n",
      "avg / total       0.96      0.96      0.95      0.96      0.95      0.91       239\n",
      "\n",
      "847 ICL//A51 CT S3-centroid\n",
      "border found\n",
      "matrix generated (15125, 485)\n",
      "SNR for clusters = 0.13562856179747235\n"
     ]
    },
    {
     "data": {
      "image/png": "[encoded data removed]",
      "text/plain": [
       "<matplotlib.figure.Figure at 0x7f27abcdb208>"
      ]
     },
     "metadata": {},
     "output_type": "display_data"
    },
    {
     "name": "stdout",
     "output_type": "stream",
     "text": [
      "clusters found, n = 2\n",
      "[0] []\n",
      "                   pre       rec       spe        f1       geo       iba       sup\n",
      "\n",
      "  On sample       0.99      0.99      0.98      0.99      0.99      0.98       185\n",
      " Off sample       0.98      0.98      0.99      0.98      0.99      0.98        58\n",
      "\n",
      "avg / total       0.99      0.99      0.99      0.99      0.99      0.98       243\n",
      "\n",
      "2449 S648 WS20 205x170 20um E110\n",
      "border found\n",
      "matrix generated (34845, 1614)\n",
      "SNR for clusters = 0.05298339044997587\n"
     ]
    },
    {
     "data": {
      "image/png": "[encoded data removed]",
      "text/plain": [
       "<matplotlib.figure.Figure at 0x7f27ab457208>"
      ]
     },
     "metadata": {},
     "output_type": "display_data"
    },
    {
     "name": "stdout",
     "output_type": "stream",
     "text": [
      "clusters found, n = 2\n",
      "[1] []\n",
      "                   pre       rec       spe        f1       geo       iba       sup\n",
      "\n",
      "  On sample       0.99      0.99      0.99      0.99      0.99      0.99       174\n",
      " Off sample       1.00      0.99      0.99      0.99      0.99      0.99       281\n",
      "\n",
      "avg / total       0.99      0.99      0.99      0.99      0.99      0.99       455\n",
      "\n",
      "2448 S649 WS21 155x105 15um E110\n",
      "border found\n",
      "matrix generated (16275, 1304)\n",
      "SNR for clusters = 0.09086167353018781\n"
     ]
    },
    {
     "data": {
      "image/png": "[encoded data removed]",
      "text/plain": [
       "<matplotlib.figure.Figure at 0x7f27f83a4780>"
      ]
     },
     "metadata": {},
     "output_type": "display_data"
    },
    {
     "name": "stdout",
     "output_type": "stream",
     "text": [
      "clusters found, n = 2\n",
      "[1] []\n",
      "                   pre       rec       spe        f1       geo       iba       sup\n",
      "\n",
      "  On sample       0.99      0.98      0.94      0.98      0.96      0.92       339\n",
      " Off sample       0.92      0.94      0.98      0.93      0.96      0.92        83\n",
      "\n",
      "avg / total       0.97      0.97      0.95      0.97      0.96      0.92       422\n",
      "\n",
      "129 MPIMM_021_QE_P_CB_0\n",
      "border found\n",
      "matrix generated (118162, 3818)\n",
      "SNR for clusters = 0.06881361334655618\n"
     ]
    },
    {
     "data": {
      "image/png": "[encoded data removed]",
      "text/plain": [
       "<matplotlib.figure.Figure at 0x7f2801e5b860>"
      ]
     },
     "metadata": {},
     "output_type": "display_data"
    },
    {
     "name": "stdout",
     "output_type": "stream",
     "text": [
      "clusters found, n = 3\n",
      "1 183 1467 0.12474437627811862 0.09621451104100946\n",
      "[2] [1]\n",
      "                   pre       rec       spe        f1       geo       iba       sup\n",
      "\n",
      "  On sample       0.30      1.00      0.75      0.47      0.86      0.76        34\n",
      " Off sample       1.00      0.75      1.00      0.85      0.86      0.73       306\n",
      "\n",
      "avg / total       0.93      0.77      0.97      0.82      0.86      0.73       340\n",
      "\n",
      "47 Xenograft_3_135um\n",
      "border found\n",
      "matrix generated (19516, 1929)\n",
      "SNR for clusters = 0.06769034477464246\n"
     ]
    },
    {
     "data": {
      "image/png": "[encoded data removed]",
      "text/plain": [
       "<matplotlib.figure.Figure at 0x7f27abcdb7f0>"
      ]
     },
     "metadata": {},
     "output_type": "display_data"
    },
    {
     "name": "stdout",
     "output_type": "stream",
     "text": [
      "clusters found, n = 2\n",
      "[1] []\n",
      "                   pre       rec       spe        f1       geo       iba       sup\n",
      "\n",
      "  On sample       1.00      1.00      0.99      1.00      0.99      0.99       221\n",
      " Off sample       0.99      0.99      1.00      0.99      0.99      0.98        93\n",
      "\n",
      "avg / total       0.99      0.99      0.99      0.99      0.99      0.99       314\n",
      "\n",
      "51 xenograft CT-26 S10\n",
      "border found\n",
      "matrix generated (54150, 4150)\n",
      "SNR for clusters = 0.04455679733287983\n"
     ]
    },
    {
     "data": {
      "image/png": "[encoded data removed]",
      "text/plain": [
       "<matplotlib.figure.Figure at 0x7f27f83a4550>"
      ]
     },
     "metadata": {},
     "output_type": "display_data"
    },
    {
     "name": "stdout",
     "output_type": "stream",
     "text": [
      "clusters found, n = 2\n",
      "[0] []\n",
      "                   pre       rec       spe        f1       geo       iba       sup\n",
      "\n",
      "  On sample       1.00      0.99      1.00      0.99      0.99      0.99       161\n",
      " Off sample       0.94      1.00      0.99      0.97      0.99      0.99        29\n",
      "\n",
      "avg / total       0.99      0.99      1.00      0.99      0.99      0.99       190\n",
      "\n",
      "75 Normal8\n",
      "border found\n",
      "matrix generated (2652, 308)\n",
      "SNR for clusters = 0.07132975951786216\n"
     ]
    },
    {
     "data": {
      "image/png": "[encoded data removed]",
      "text/plain": [
       "<matplotlib.figure.Figure at 0x7f27ad036940>"
      ]
     },
     "metadata": {},
     "output_type": "display_data"
    },
    {
     "name": "stdout",
     "output_type": "stream",
     "text": [
      "clusters found, n = 2\n",
      "[0] []\n",
      "                   pre       rec       spe        f1       geo       iba       sup\n",
      "\n",
      "  On sample       1.00      0.97      1.00      0.98      0.98      0.97       259\n",
      " Off sample       0.74      1.00      0.97      0.85      0.98      0.97        23\n",
      "\n",
      "avg / total       0.98      0.97      1.00      0.97      0.98      0.97       282\n",
      "\n",
      "93 Tumor11\n",
      "border found\n",
      "matrix generated (6160, 537)\n",
      "SNR for clusters = 0.10922556382228453\n"
     ]
    },
    {
     "data": {
      "image/png": "[encoded data removed]",
      "text/plain": [
       "<matplotlib.figure.Figure at 0x7f2801f023c8>"
      ]
     },
     "metadata": {},
     "output_type": "display_data"
    },
    {
     "name": "stdout",
     "output_type": "stream",
     "text": [
      "clusters found, n = 2\n",
      "[1] []\n",
      "                   pre       rec       spe        f1       geo       iba       sup\n",
      "\n",
      "  On sample       0.95      0.99      0.78      0.97      0.88      0.80       327\n",
      " Off sample       0.97      0.78      0.99      0.87      0.88      0.76        79\n",
      "\n",
      "avg / total       0.95      0.95      0.83      0.95      0.88      0.79       406\n",
      "\n",
      "1581 MP 39\n",
      "border found\n",
      "matrix generated (38282, 2405)\n",
      "SNR for clusters = 0.04248512196467397\n"
     ]
    },
    {
     "data": {
      "image/png": "[encoded data removed]",
      "text/plain": [
       "<matplotlib.figure.Figure at 0x7f27ab457208>"
      ]
     },
     "metadata": {},
     "output_type": "display_data"
    },
    {
     "name": "stdout",
     "output_type": "stream",
     "text": [
      "clusters found, n = 2\n",
      "[0] []\n",
      "                   pre       rec       spe        f1       geo       iba       sup\n",
      "\n",
      "  On sample       1.00      0.97      1.00      0.98      0.98      0.96       229\n",
      " Off sample       0.91      1.00      0.97      0.96      0.98      0.97        86\n",
      "\n",
      "avg / total       0.98      0.97      0.99      0.97      0.98      0.96       315\n",
      "\n",
      "193 DESI quan_Swales\n",
      "border found\n",
      "matrix generated (66928, 6376)\n",
      "SNR for clusters = 0.06779825299942512\n"
     ]
    },
    {
     "data": {
      "image/png": "[encoded data removed]",
      "text/plain": [
       "<matplotlib.figure.Figure at 0x7f27ab459fd0>"
      ]
     },
     "metadata": {},
     "output_type": "display_data"
    },
    {
     "name": "stdout",
     "output_type": "stream",
     "text": [
      "clusters found, n = 2\n",
      "[1] []\n",
      "                   pre       rec       spe        f1       geo       iba       sup\n",
      "\n",
      "  On sample       0.95      1.00      0.90      0.97      0.95      0.91       121\n",
      " Off sample       1.00      0.90      1.00      0.95      0.95      0.89        69\n",
      "\n",
      "avg / total       0.97      0.96      0.94      0.96      0.95      0.90       190\n",
      "\n",
      "821 ICL//LNTO22_1_3\n",
      "border found\n",
      "matrix generated (8228, 573)\n",
      "SNR for clusters = 0.04655504009354508\n"
     ]
    },
    {
     "data": {
      "image/png": "[encoded data removed]",
      "text/plain": [
       "<matplotlib.figure.Figure at 0x7f27ab457e80>"
      ]
     },
     "metadata": {},
     "output_type": "display_data"
    },
    {
     "name": "stdout",
     "output_type": "stream",
     "text": [
      "clusters found, n = 2\n",
      "[0] []\n",
      "                   pre       rec       spe        f1       geo       iba       sup\n",
      "\n",
      "  On sample       1.00      0.99      0.94      0.99      0.96      0.93       216\n",
      " Off sample       0.88      0.94      0.99      0.91      0.96      0.92        16\n",
      "\n",
      "avg / total       0.99      0.99      0.94      0.99      0.96      0.93       232\n",
      "\n",
      "935 ICL//LNTO26_7_3\n",
      "border found\n",
      "matrix generated (7216, 255)\n",
      "SNR for clusters = 0.09329818210841034\n"
     ]
    },
    {
     "data": {
      "image/png": "[encoded data removed]",
      "text/plain": [
       "<matplotlib.figure.Figure at 0x7f27f83ee710>"
      ]
     },
     "metadata": {},
     "output_type": "display_data"
    },
    {
     "name": "stdout",
     "output_type": "stream",
     "text": [
      "clusters found, n = 2\n",
      "[0] []\n",
      "                   pre       rec       spe        f1       geo       iba       sup\n",
      "\n",
      "  On sample       1.00      0.99      1.00      1.00      1.00      0.99       195\n",
      " Off sample       0.94      1.00      0.99      0.97      1.00      1.00        17\n",
      "\n",
      "avg / total       1.00      1.00      1.00      1.00      1.00      0.99       212\n",
      "\n",
      "835 ICL//LNTO30_16_1\n",
      "border found\n",
      "matrix generated (8930, 203)\n",
      "SNR for clusters = 0.06414152720846286\n"
     ]
    },
    {
     "data": {
      "image/png": "[encoded data removed]",
      "text/plain": [
       "<matplotlib.figure.Figure at 0x7f27ac0e1be0>"
      ]
     },
     "metadata": {},
     "output_type": "display_data"
    },
    {
     "name": "stdout",
     "output_type": "stream",
     "text": [
      "clusters found, n = 2\n",
      "[0] []\n",
      "                   pre       rec       spe        f1       geo       iba       sup\n",
      "\n",
      "  On sample       1.00      0.96      1.00      0.98      0.98      0.96        55\n",
      " Off sample       0.88      1.00      0.96      0.94      0.98      0.97        15\n",
      "\n",
      "avg / total       0.97      0.97      0.99      0.97      0.98      0.96        70\n",
      "\n",
      "944 ICL//LNTO31_17_4\n",
      "border found\n",
      "matrix generated (12216, 252)\n",
      "SNR for clusters = 0.07375008384325374\n"
     ]
    },
    {
     "data": {
      "image/png": "[encoded data removed]",
      "text/plain": [
       "<matplotlib.figure.Figure at 0x7f27f8c06518>"
      ]
     },
     "metadata": {},
     "output_type": "display_data"
    },
    {
     "name": "stdout",
     "output_type": "stream",
     "text": [
      "clusters found, n = 2\n",
      "[1] []\n",
      "                   pre       rec       spe        f1       geo       iba       sup\n",
      "\n",
      "  On sample       1.00      1.00      1.00      1.00      1.00      1.00       171\n",
      " Off sample       1.00      1.00      1.00      1.00      1.00      1.00        31\n",
      "\n",
      "avg / total       1.00      1.00      1.00      1.00      1.00      1.00       202\n",
      "\n",
      "882 ICL//LNTO41_17_2\n",
      "border found\n",
      "matrix generated (9497, 343)\n",
      "SNR for clusters = 0.08041236077005881\n"
     ]
    },
    {
     "data": {
      "image/png": "[encoded data removed]",
      "text/plain": [
       "<matplotlib.figure.Figure at 0x7f27ac032780>"
      ]
     },
     "metadata": {},
     "output_type": "display_data"
    },
    {
     "name": "stdout",
     "output_type": "stream",
     "text": [
      "clusters found, n = 2\n",
      "[1] []\n",
      "                   pre       rec       spe        f1       geo       iba       sup\n",
      "\n",
      "  On sample       1.00      1.00      1.00      1.00      1.00      1.00       156\n",
      " Off sample       1.00      1.00      1.00      1.00      1.00      1.00        27\n",
      "\n",
      "avg / total       1.00      1.00      1.00      1.00      1.00      1.00       183\n",
      "\n",
      "885 ICL//LNTO41_17_4\n",
      "border found\n",
      "matrix generated (6642, 288)\n",
      "SNR for clusters = 0.10959056623865375\n"
     ]
    },
    {
     "data": {
      "image/png": "[encoded data removed]",
      "text/plain": [
       "<matplotlib.figure.Figure at 0x7f27abca6ba8>"
      ]
     },
     "metadata": {},
     "output_type": "display_data"
    },
    {
     "name": "stdout",
     "output_type": "stream",
     "text": [
      "clusters found, n = 2\n",
      "[1] []\n",
      "                   pre       rec       spe        f1       geo       iba       sup\n",
      "\n",
      "  On sample       1.00      1.00      1.00      1.00      1.00      0.99       217\n",
      " Off sample       0.97      1.00      1.00      0.98      1.00      1.00        28\n",
      "\n",
      "avg / total       1.00      1.00      1.00      1.00      1.00      1.00       245\n",
      "\n",
      "888 ICL//LNTO42_17_1\n",
      "border found\n",
      "matrix generated (7209, 301)\n",
      "SNR for clusters = 0.0974105339741091\n"
     ]
    },
    {
     "data": {
      "image/png": "[encoded data removed]",
      "text/plain": [
       "<matplotlib.figure.Figure at 0x7f27abcf2cf8>"
      ]
     },
     "metadata": {},
     "output_type": "display_data"
    },
    {
     "name": "stdout",
     "output_type": "stream",
     "text": [
      "clusters found, n = 2\n",
      "[1] []\n",
      "                   pre       rec       spe        f1       geo       iba       sup\n",
      "\n",
      "  On sample       1.00      0.99      1.00      0.99      0.99      0.99       176\n",
      " Off sample       0.98      1.00      0.99      0.99      0.99      0.99        98\n",
      "\n",
      "avg / total       0.99      0.99      1.00      0.99      0.99      0.99       274\n",
      "\n",
      "53 20170105_VS_disc2_NEDC0001_70x80_10x10\n",
      "border found\n",
      "matrix generated (5599, 159)\n",
      "SNR for clusters = 0.04331521009121233\n"
     ]
    },
    {
     "data": {
      "image/png": "[encoded data removed]",
      "text/plain": [
       "<matplotlib.figure.Figure at 0x7f27ac4211d0>"
      ]
     },
     "metadata": {},
     "output_type": "display_data"
    },
    {
     "name": "stdout",
     "output_type": "stream",
     "text": [
      "clusters found, n = 2\n",
      "[0] []\n",
      "                   pre       rec       spe        f1       geo       iba       sup\n",
      "\n",
      "  On sample       1.00      1.00      1.00      1.00      1.00      1.00        10\n",
      " Off sample       1.00      1.00      1.00      1.00      1.00      1.00        62\n",
      "\n",
      "avg / total       1.00      1.00      1.00      1.00      1.00      1.00        72\n",
      "\n",
      "555 2017023_ADP_GFlarvae_55x55_40x40_DMAN002\n",
      "border found\n",
      "matrix generated (3024, 1646)\n",
      "SNR for clusters = 0.10698071031477449\n"
     ]
    },
    {
     "data": {
      "image/png": "[encoded data removed]",
      "text/plain": [
       "<matplotlib.figure.Figure at 0x7f27ad02c0b8>"
      ]
     },
     "metadata": {},
     "output_type": "display_data"
    },
    {
     "name": "stdout",
     "output_type": "stream",
     "text": [
      "clusters found, n = 2\n",
      "[1] []\n",
      "                   pre       rec       spe        f1       geo       iba       sup\n",
      "\n",
      "  On sample       1.00      0.97      1.00      0.99      0.99      0.97        68\n",
      " Off sample       0.99      1.00      0.97      0.99      0.99      0.97       166\n",
      "\n",
      "avg / total       0.99      0.99      0.98      0.99      0.99      0.97       234\n",
      "\n",
      "322 Tumor17\n",
      "border found\n",
      "matrix generated (6760, 398)\n",
      "SNR for clusters = 0.06044454473689098\n"
     ]
    },
    {
     "data": {
      "image/png": "[encoded data removed]",
      "text/plain": [
       "<matplotlib.figure.Figure at 0x7f27abd076a0>"
      ]
     },
     "metadata": {},
     "output_type": "display_data"
    },
    {
     "name": "stdout",
     "output_type": "stream",
     "text": [
      "clusters found, n = 2\n",
      "[0] []\n",
      "                   pre       rec       spe        f1       geo       iba       sup\n",
      "\n",
      "  On sample       1.00      0.99      1.00      0.99      0.99      0.99       168\n",
      " Off sample       0.86      1.00      0.99      0.92      0.99      0.99        12\n",
      "\n",
      "avg / total       0.99      0.99      1.00      0.99      0.99      0.99       180\n",
      "\n",
      "190 Tumor41\n",
      "border found\n",
      "matrix generated (1394, 300)\n",
      "SNR for clusters = 0.1346350364900516\n"
     ]
    },
    {
     "data": {
      "image/png": "[encoded data removed]",
      "text/plain": [
       "<matplotlib.figure.Figure at 0x7f27f83a47f0>"
      ]
     },
     "metadata": {},
     "output_type": "display_data"
    },
    {
     "name": "stdout",
     "output_type": "stream",
     "text": [
      "clusters found, n = 2\n",
      "[0] []\n",
      "                   pre       rec       spe        f1       geo       iba       sup\n",
      "\n",
      "  On sample       1.00      1.00      1.00      1.00      1.00      1.00        72\n",
      " Off sample       1.00      1.00      1.00      1.00      1.00      1.00        19\n",
      "\n",
      "avg / total       1.00      1.00      1.00      1.00      1.00      1.00        91\n",
      "\n",
      "441 Borderline13\n",
      "border found\n",
      "matrix generated (2024, 355)\n",
      "SNR for clusters = 0.14968049348111367\n"
     ]
    },
    {
     "data": {
      "image/png": "[encoded data removed]",
      "text/plain": [
       "<matplotlib.figure.Figure at 0x7f27ffd6f518>"
      ]
     },
     "metadata": {},
     "output_type": "display_data"
    },
    {
     "name": "stdout",
     "output_type": "stream",
     "text": [
      "clusters found, n = 2\n",
      "[1] []\n",
      "                   pre       rec       spe        f1       geo       iba       sup\n",
      "\n",
      "  On sample       0.94      1.00      0.82      0.97      0.91      0.84       118\n",
      " Off sample       1.00      0.82      1.00      0.90      0.91      0.81        45\n",
      "\n",
      "avg / total       0.95      0.95      0.87      0.95      0.91      0.83       163\n",
      "\n",
      "471 Borderline14\n",
      "border found\n",
      "matrix generated (1575, 212)\n",
      "SNR for clusters = 0.09713577949949637\n"
     ]
    },
    {
     "data": {
      "image/png": "[encoded data removed]",
      "text/plain": [
       "<matplotlib.figure.Figure at 0x7f27abcf7b70>"
      ]
     },
     "metadata": {},
     "output_type": "display_data"
    },
    {
     "name": "stdout",
     "output_type": "stream",
     "text": [
      "clusters found, n = 3\n",
      "2 37 156 0.23717948717948717 1.0\n",
      "[0] [2]\n",
      "                   pre       rec       spe        f1       geo       iba       sup\n",
      "\n",
      "  On sample       0.99      0.98      0.95      0.99      0.97      0.94       128\n",
      " Off sample       0.90      0.95      0.98      0.92      0.97      0.93        19\n",
      "\n",
      "avg / total       0.98      0.98      0.95      0.98      0.97      0.94       147\n",
      "\n",
      "403 Row001\n",
      "border found\n",
      "matrix generated (5151, 5574)\n",
      "SNR for clusters = 0.050366647287907705\n"
     ]
    },
    {
     "data": {
      "image/png": "[encoded data removed]",
      "text/plain": [
       "<matplotlib.figure.Figure at 0x7f27ac023668>"
      ]
     },
     "metadata": {},
     "output_type": "display_data"
    },
    {
     "name": "stdout",
     "output_type": "stream",
     "text": [
      "clusters found, n = 2\n",
      "[0] []\n",
      "                   pre       rec       spe        f1       geo       iba       sup\n",
      "\n",
      "  On sample       0.51      1.00      0.93      0.68      0.97      0.94        23\n",
      " Off sample       1.00      0.93      1.00      0.97      0.97      0.93       328\n",
      "\n",
      "avg / total       0.97      0.94      1.00      0.95      0.97      0.93       351\n",
      "\n",
      "425 MPIMM_049_QE_P_BA_CF_sp3\n",
      "border found\n",
      "matrix generated (32000, 493)\n",
      "SNR for clusters = 0.02065317459305202\n"
     ]
    },
    {
     "data": {
      "image/png": "[encoded data removed]",
      "text/plain": [
       "<matplotlib.figure.Figure at 0x7f27ac0fc9e8>"
      ]
     },
     "metadata": {},
     "output_type": "display_data"
    },
    {
     "name": "stdout",
     "output_type": "stream",
     "text": [
      "clusters found, n = 2\n",
      "[1] []\n",
      "                   pre       rec       spe        f1       geo       iba       sup\n",
      "\n",
      "  On sample       1.00      1.00      1.00      1.00      1.00      1.00       135\n",
      " Off sample       1.00      1.00      1.00      1.00      1.00      1.00        23\n",
      "\n",
      "avg / total       1.00      1.00      1.00      1.00      1.00      1.00       158\n",
      "\n",
      "1566 161007_WT1S1L1\n",
      "border found\n",
      "matrix generated (12876, 2446)\n",
      "SNR for clusters = 0.05772523806821517\n"
     ]
    },
    {
     "data": {
      "image/png": "[encoded data removed]",
      "text/plain": [
       "<matplotlib.figure.Figure at 0x7f2801f02400>"
      ]
     },
     "metadata": {},
     "output_type": "display_data"
    },
    {
     "name": "stdout",
     "output_type": "stream",
     "text": [
      "clusters found, n = 2\n",
      "[0] []\n",
      "                   pre       rec       spe        f1       geo       iba       sup\n",
      "\n",
      "  On sample       1.00      1.00      1.00      1.00      1.00      1.00        30\n",
      " Off sample       1.00      1.00      1.00      1.00      1.00      1.00       154\n",
      "\n",
      "avg / total       1.00      1.00      1.00      1.00      1.00      1.00       184\n",
      "\n",
      "371 170321_kangaroobrain-bpyn1-pos_maxof50.0_med1r\n",
      "border found\n",
      "matrix generated (3330, 981)\n",
      "SNR for clusters = 0.08051981631694825\n"
     ]
    },
    {
     "data": {
      "image/png": "[encoded data removed]",
      "text/plain": [
       "<matplotlib.figure.Figure at 0x7f27ac076320>"
      ]
     },
     "metadata": {},
     "output_type": "display_data"
    },
    {
     "name": "stdout",
     "output_type": "stream",
     "text": [
      "clusters found, n = 2\n",
      "[1] []\n",
      "                   pre       rec       spe        f1       geo       iba       sup\n",
      "\n",
      "  On sample       0.92      1.00      0.88      0.96      0.94      0.89       208\n",
      " Off sample       1.00      0.88      1.00      0.93      0.94      0.86       145\n",
      "\n",
      "avg / total       0.95      0.95      0.93      0.95      0.94      0.88       353\n",
      "\n",
      "301 NCSU_mouse_LCC6_tumor\n",
      "border found\n",
      "matrix generated (6439, 3347)\n",
      "SNR for clusters = 0.3014498700690607\n",
      "BAD IONS = 3264\n"
     ]
    },
    {
     "data": {
      "image/png": "[encoded data removed]",
      "text/plain": [
       "<matplotlib.figure.Figure at 0x7f2801f023c8>"
      ]
     },
     "metadata": {},
     "output_type": "display_data"
    },
    {
     "name": "stdout",
     "output_type": "stream",
     "text": [
      "clusters found, n = 2\n",
      "[0] []\n",
      "                   pre       rec       spe        f1       geo       iba       sup\n",
      "\n",
      "  On sample       1.00      0.99      1.00      1.00      1.00      0.99       158\n",
      " Off sample       0.96      1.00      0.99      0.98      1.00      0.99        25\n",
      "\n",
      "avg / total       0.99      0.99      1.00      0.99      1.00      0.99       183\n",
      "\n",
      "566 170418_MouseBrain_pos_50um_205by129_atn0\n",
      "border found\n",
      "matrix generated (26444, 3749)\n",
      "SNR for clusters = 0.1920143683029881\n"
     ]
    },
    {
     "data": {
      "image/png": "[encoded data removed]",
      "text/plain": [
       "<matplotlib.figure.Figure at 0x7f27ac4236d8>"
      ]
     },
     "metadata": {},
     "output_type": "display_data"
    },
    {
     "name": "stdout",
     "output_type": "stream",
     "text": [
      "clusters found, n = 2\n",
      "[1] []\n",
      "                   pre       rec       spe        f1       geo       iba       sup\n",
      "\n",
      "  On sample       1.00      0.97      1.00      0.99      0.99      0.97       152\n",
      " Off sample       0.96      1.00      0.97      0.98      0.99      0.98       108\n",
      "\n",
      "avg / total       0.99      0.98      0.99      0.98      0.99      0.97       260\n",
      "\n",
      "599 NCSU_M8_mouse_brain\n",
      "border found\n",
      "matrix generated (7787, 3210)\n",
      "SNR for clusters = 0.10689363961698901\n"
     ]
    },
    {
     "data": {
      "image/png": "[encoded data removed]",
      "text/plain": [
       "<matplotlib.figure.Figure at 0x7f27ac423f98>"
      ]
     },
     "metadata": {},
     "output_type": "display_data"
    },
    {
     "name": "stdout",
     "output_type": "stream",
     "text": [
      "clusters found, n = 2\n",
      "[1] []\n",
      "                   pre       rec       spe        f1       geo       iba       sup\n",
      "\n",
      "  On sample       0.58      1.00      0.82      0.73      0.90      0.83        69\n",
      " Off sample       1.00      0.82      1.00      0.90      0.90      0.80       273\n",
      "\n",
      "avg / total       0.92      0.85      0.96      0.87      0.90      0.81       342\n",
      "\n",
      "601 20170503_ADP-JS_CD1-Brain_dan005_117x143_60x60_N\n",
      "border found\n",
      "matrix generated (16704, 526)\n",
      "SNR for clusters = 0.03254061549492081\n"
     ]
    },
    {
     "data": {
      "image/png": "[encoded data removed]",
      "text/plain": [
       "<matplotlib.figure.Figure at 0x7f27ac082b70>"
      ]
     },
     "metadata": {},
     "output_type": "display_data"
    },
    {
     "name": "stdout",
     "output_type": "stream",
     "text": [
      "clusters found, n = 2\n",
      "[0] []\n",
      "                   pre       rec       spe        f1       geo       iba       sup\n",
      "\n",
      "  On sample       1.00      0.98      1.00      0.99      0.99      0.98       101\n",
      " Off sample       0.99      1.00      0.98      1.00      0.99      0.98       307\n",
      "\n",
      "avg / total       1.00      1.00      0.99      1.00      0.99      0.98       408\n",
      "\n",
      "1105 Dataset 2\n",
      "border found\n",
      "matrix generated (12876, 2446)\n",
      "SNR for clusters = 0.05772523806821517\n"
     ]
    },
    {
     "data": {
      "image/png": "[encoded data removed]",
      "text/plain": [
       "<matplotlib.figure.Figure at 0x7f27abca6ba8>"
      ]
     },
     "metadata": {},
     "output_type": "display_data"
    },
    {
     "name": "stdout",
     "output_type": "stream",
     "text": [
      "clusters found, n = 2\n",
      "[0] []\n",
      "                   pre       rec       spe        f1       geo       iba       sup\n",
      "\n",
      "  On sample       0.98      0.99      0.99      0.99      0.99      0.98       175\n",
      " Off sample       0.99      0.99      0.99      0.99      0.99      0.98       201\n",
      "\n",
      "avg / total       0.99      0.99      0.99      0.99      0.99      0.98       376\n",
      "\n",
      "672 Dataset 3\n",
      "border found\n",
      "matrix generated (11340, 2596)\n",
      "SNR for clusters = 0.03731430579054533\n"
     ]
    },
    {
     "data": {
      "image/png": "[encoded data removed]",
      "text/plain": [
       "<matplotlib.figure.Figure at 0x7f27f8c06198>"
      ]
     },
     "metadata": {},
     "output_type": "display_data"
    },
    {
     "name": "stdout",
     "output_type": "stream",
     "text": [
      "clusters found, n = 2\n",
      "[0] []\n",
      "                   pre       rec       spe        f1       geo       iba       sup\n",
      "\n",
      "  On sample       1.00      0.98      1.00      0.99      0.99      0.98       194\n",
      " Off sample       0.98      1.00      0.98      0.99      0.99      0.99       150\n",
      "\n",
      "avg / total       0.99      0.99      0.99      0.99      0.99      0.98       344\n",
      "\n",
      "673 Dataset 4\n",
      "border found\n",
      "matrix generated (11186, 2280)\n",
      "SNR for clusters = 0.07107007855643065\n"
     ]
    },
    {
     "data": {
      "image/png": "[encoded data removed]",
      "text/plain": [
       "<matplotlib.figure.Figure at 0x7f27ab44dc50>"
      ]
     },
     "metadata": {},
     "output_type": "display_data"
    },
    {
     "name": "stdout",
     "output_type": "stream",
     "text": [
      "clusters found, n = 2\n",
      "[1] []\n",
      "                   pre       rec       spe        f1       geo       iba       sup\n",
      "\n",
      "  On sample       0.97      0.95      0.98      0.96      0.96      0.92       112\n",
      " Off sample       0.96      0.98      0.95      0.97      0.96      0.93       150\n",
      "\n",
      "avg / total       0.97      0.97      0.96      0.97      0.96      0.93       262\n",
      "\n",
      "677 Dataset 8\n",
      "border found\n",
      "matrix generated (13625, 6103)\n",
      "SNR for clusters = 0.03813228217047686\n"
     ]
    },
    {
     "data": {
      "image/png": "[encoded data removed]",
      "text/plain": [
       "<matplotlib.figure.Figure at 0x7f27ac4211d0>"
      ]
     },
     "metadata": {},
     "output_type": "display_data"
    },
    {
     "name": "stdout",
     "output_type": "stream",
     "text": [
      "clusters found, n = 10\n",
      "1 2 464 0.004310344827586207 0.06666666666666667\n",
      "2 25 464 0.05387931034482758 0.21008403361344538\n",
      "3 28 464 0.0603448275862069 0.16374269005847952\n",
      "4 7 464 0.015086206896551725 0.0707070707070707\n",
      "5 50 464 0.10775862068965517 0.2604166666666667\n",
      "6 17 464 0.036637931034482756 0.17525773195876287\n",
      "7 0 464 0.0 0.0\n",
      "8 11 464 0.023706896551724137 0.04365079365079365\n",
      "[0] [2, 3, 5, 6]\n",
      "                   pre       rec       spe        f1       geo       iba       sup\n",
      "\n",
      "  On sample       0.90      0.88      0.95      0.89      0.91      0.82        40\n",
      " Off sample       0.93      0.95      0.88      0.94      0.91      0.83        73\n",
      "\n",
      "avg / total       0.92      0.92      0.90      0.92      0.91      0.83       113\n",
      "\n",
      "685 Dataset 16\n",
      "border found\n",
      "matrix generated (11662, 2464)\n",
      "SNR for clusters = 0.04493452912525232\n"
     ]
    },
    {
     "data": {
      "image/png": "[encoded data removed]",
      "text/plain": [
       "<matplotlib.figure.Figure at 0x7f27ab459b70>"
      ]
     },
     "metadata": {},
     "output_type": "display_data"
    },
    {
     "name": "stdout",
     "output_type": "stream",
     "text": [
      "clusters found, n = 2\n",
      "[0] []\n",
      "                   pre       rec       spe        f1       geo       iba       sup\n",
      "\n",
      "  On sample       1.00      0.99      1.00      0.99      0.99      0.99       193\n",
      " Off sample       0.99      1.00      0.99      0.99      0.99      0.99       199\n",
      "\n",
      "avg / total       0.99      0.99      0.99      0.99      0.99      0.99       392\n",
      "\n",
      "687 Dataset 18\n",
      "border found\n",
      "matrix generated (10556, 2902)\n",
      "SNR for clusters = 0.06962990141429956\n"
     ]
    },
    {
     "data": {
      "image/png": "[encoded data removed]",
      "text/plain": [
       "<matplotlib.figure.Figure at 0x7f27ac076780>"
      ]
     },
     "metadata": {},
     "output_type": "display_data"
    },
    {
     "name": "stdout",
     "output_type": "stream",
     "text": [
      "clusters found, n = 2\n",
      "[1] []\n",
      "                   pre       rec       spe        f1       geo       iba       sup\n",
      "\n",
      "  On sample       1.00      0.99      1.00      1.00      1.00      0.99       145\n",
      " Off sample       1.00      1.00      0.99      1.00      1.00      0.99       210\n",
      "\n",
      "avg / total       1.00      1.00      1.00      1.00      1.00      0.99       355\n",
      "\n",
      "690 Dataset 21\n",
      "border found\n",
      "matrix generated (15014, 2433)\n",
      "SNR for clusters = 0.07357370492163531\n"
     ]
    },
    {
     "data": {
      "image/png": "[encoded data removed]",
      "text/plain": [
       "<matplotlib.figure.Figure at 0x7f27abc01940>"
      ]
     },
     "metadata": {},
     "output_type": "display_data"
    },
    {
     "name": "stdout",
     "output_type": "stream",
     "text": [
      "clusters found, n = 2\n",
      "[1] []\n",
      "                   pre       rec       spe        f1       geo       iba       sup\n",
      "\n",
      "  On sample       1.00      1.00      1.00      1.00      1.00      1.00       185\n",
      " Off sample       1.00      1.00      1.00      1.00      1.00      1.00       230\n",
      "\n",
      "avg / total       1.00      1.00      1.00      1.00      1.00      1.00       415\n",
      "\n",
      "692 Dataset 23\n",
      "border found\n",
      "matrix generated (17262, 2850)\n",
      "SNR for clusters = 0.062860123381772\n"
     ]
    },
    {
     "data": {
      "image/png": "[encoded data removed]",
      "text/plain": [
       "<matplotlib.figure.Figure at 0x7f27ac423f98>"
      ]
     },
     "metadata": {},
     "output_type": "display_data"
    },
    {
     "name": "stdout",
     "output_type": "stream",
     "text": [
      "clusters found, n = 2\n",
      "[1] []\n",
      "                   pre       rec       spe        f1       geo       iba       sup\n",
      "\n",
      "  On sample       1.00      0.99      1.00      0.99      0.99      0.99       172\n",
      " Off sample       0.99      1.00      0.99      0.99      0.99      0.99       186\n",
      "\n",
      "avg / total       0.99      0.99      0.99      0.99      0.99      0.99       358\n",
      "\n",
      "696 Dataset 27\n",
      "border found\n",
      "matrix generated (18630, 2564)\n",
      "SNR for clusters = 0.03344559580333592\n"
     ]
    },
    {
     "data": {
      "image/png": "[encoded data removed]",
      "text/plain": [
       "<matplotlib.figure.Figure at 0x7f27abbe36a0>"
      ]
     },
     "metadata": {},
     "output_type": "display_data"
    },
    {
     "name": "stdout",
     "output_type": "stream",
     "text": [
      "clusters found, n = 2\n",
      "[0] []\n",
      "                   pre       rec       spe        f1       geo       iba       sup\n",
      "\n",
      "  On sample       1.00      1.00      1.00      1.00      1.00      1.00       155\n",
      " Off sample       1.00      1.00      1.00      1.00      1.00      1.00       212\n",
      "\n",
      "avg / total       1.00      1.00      1.00      1.00      1.00      1.00       367\n",
      "\n",
      "697 Servier_Ctrl_rat_liver_9aa\n",
      "border found\n",
      "matrix generated (49891, 694)\n",
      "SNR for clusters = 0.023387392874426906\n"
     ]
    },
    {
     "data": {
      "image/png": "[encoded data removed]",
      "text/plain": [
       "<matplotlib.figure.Figure at 0x7f27ac4235c0>"
      ]
     },
     "metadata": {},
     "output_type": "display_data"
    },
    {
     "name": "stdout",
     "output_type": "stream",
     "text": [
      "clusters found, n = 3\n",
      "1 37 715 0.05174825174825175 0.21511627906976744\n",
      "[2] [1]\n",
      "                   pre       rec       spe        f1       geo       iba       sup\n",
      "\n",
      "  On sample       0.97      1.00      0.83      0.99      0.91      0.85       116\n",
      " Off sample       1.00      0.83      1.00      0.91      0.91      0.82        18\n",
      "\n",
      "avg / total       0.98      0.98      0.86      0.98      0.91      0.84       134\n",
      "\n",
      "708 Dataset 30\n",
      "border found\n",
      "matrix generated (12144, 2239)\n",
      "SNR for clusters = 0.03460220675413699\n"
     ]
    },
    {
     "data": {
      "image/png": "[encoded data removed]",
      "text/plain": [
       "<matplotlib.figure.Figure at 0x7f27abc018d0>"
      ]
     },
     "metadata": {},
     "output_type": "display_data"
    },
    {
     "name": "stdout",
     "output_type": "stream",
     "text": [
      "clusters found, n = 2\n",
      "[0] []\n",
      "                   pre       rec       spe        f1       geo       iba       sup\n",
      "\n",
      "  On sample       1.00      1.00      1.00      1.00      1.00      1.00       202\n",
      " Off sample       1.00      1.00      1.00      1.00      1.00      1.00       171\n",
      "\n",
      "avg / total       1.00      1.00      1.00      1.00      1.00      1.00       373\n",
      "\n",
      "709 Dataset 31\n",
      "border found\n",
      "matrix generated (11600, 2233)\n",
      "SNR for clusters = 0.038000093268472104\n"
     ]
    },
    {
     "data": {
      "image/png": "[encoded data removed]",
      "text/plain": [
       "<matplotlib.figure.Figure at 0x7f27ab857d30>"
      ]
     },
     "metadata": {},
     "output_type": "display_data"
    },
    {
     "name": "stdout",
     "output_type": "stream",
     "text": [
      "clusters found, n = 2\n",
      "[0] []\n",
      "                   pre       rec       spe        f1       geo       iba       sup\n",
      "\n",
      "  On sample       0.99      1.00      1.00      1.00      1.00      1.00       197\n",
      " Off sample       1.00      1.00      1.00      1.00      1.00      0.99       210\n",
      "\n",
      "avg / total       1.00      1.00      1.00      1.00      1.00      1.00       407\n",
      "\n",
      "1090 CC-Esco2_centroids\n",
      "border found\n",
      "matrix generated (11179, 1110)\n",
      "SNR for clusters = 0.09153494224401214\n"
     ]
    },
    {
     "data": {
      "image/png": "[encoded data removed]",
      "text/plain": [
       "<matplotlib.figure.Figure at 0x7f27ffd6f550>"
      ]
     },
     "metadata": {},
     "output_type": "display_data"
    },
    {
     "name": "stdout",
     "output_type": "stream",
     "text": [
      "clusters found, n = 2\n",
      "[1] []\n",
      "                   pre       rec       spe        f1       geo       iba       sup\n",
      "\n",
      "  On sample       1.00      0.93      1.00      0.96      0.96      0.92        56\n",
      " Off sample       0.98      1.00      0.93      0.99      0.96      0.94       176\n",
      "\n",
      "avg / total       0.98      0.98      0.95      0.98      0.96      0.93       232\n",
      "\n",
      "1093 Esco1_centroids\n",
      "border found\n",
      "matrix generated (13680, 751)\n",
      "SNR for clusters = 0.11144166964688941\n"
     ]
    },
    {
     "data": {
      "image/png": "[encoded data removed]",
      "text/plain": [
       "<matplotlib.figure.Figure at 0x7f27ac423128>"
      ]
     },
     "metadata": {},
     "output_type": "display_data"
    },
    {
     "name": "stdout",
     "output_type": "stream",
     "text": [
      "clusters found, n = 2\n",
      "[0] []\n",
      "                   pre       rec       spe        f1       geo       iba       sup\n",
      "\n",
      "  On sample       0.97      1.00      1.00      0.98      1.00      1.00        31\n",
      " Off sample       1.00      1.00      1.00      1.00      1.00      1.00       251\n",
      "\n",
      "avg / total       1.00      1.00      1.00      1.00      1.00      1.00       282\n",
      "\n",
      "1094 Esco2_centroids\n",
      "border found\n",
      "matrix generated (14653, 805)\n",
      "SNR for clusters = 0.09821042407254656\n"
     ]
    },
    {
     "data": {
      "image/png": "[encoded data removed]",
      "text/plain": [
       "<matplotlib.figure.Figure at 0x7f27f8c35cc0>"
      ]
     },
     "metadata": {},
     "output_type": "display_data"
    },
    {
     "name": "stdout",
     "output_type": "stream",
     "text": [
      "clusters found, n = 2\n",
      "[0] []\n",
      "                   pre       rec       spe        f1       geo       iba       sup\n",
      "\n",
      "  On sample       1.00      1.00      1.00      1.00      1.00      1.00        14\n",
      " Off sample       1.00      1.00      1.00      1.00      1.00      1.00       253\n",
      "\n",
      "avg / total       1.00      1.00      1.00      1.00      1.00      1.00       267\n",
      "\n",
      "1097 ST-Pseudo_centroids\n",
      "border found\n",
      "matrix generated (12548, 1003)\n",
      "SNR for clusters = 0.09382457362975409\n"
     ]
    },
    {
     "data": {
      "image/png": "[encoded data removed]",
      "text/plain": [
       "<matplotlib.figure.Figure at 0x7f27c1779f28>"
      ]
     },
     "metadata": {},
     "output_type": "display_data"
    },
    {
     "name": "stdout",
     "output_type": "stream",
     "text": [
      "clusters found, n = 2\n",
      "[1] []\n",
      "                   pre       rec       spe        f1       geo       iba       sup\n",
      "\n",
      "  On sample       1.00      0.88      1.00      0.93      0.94      0.86        24\n",
      " Off sample       0.99      1.00      0.88      0.99      0.94      0.89       201\n",
      "\n",
      "avg / total       0.99      0.99      0.89      0.99      0.94      0.88       225\n",
      "\n",
      "1104 servier_TT_mouse_wb_fmpts_derivatization_CHCA\n",
      "border found\n",
      "matrix generated (19160, 1533)\n",
      "SNR for clusters = 0.2515781904206411\n",
      "BAD IONS = 962\n"
     ]
    },
    {
     "data": {
      "image/png": "[encoded data removed]",
      "text/plain": [
       "<matplotlib.figure.Figure at 0x7f27f8c06198>"
      ]
     },
     "metadata": {},
     "output_type": "display_data"
    },
    {
     "name": "stdout",
     "output_type": "stream",
     "text": [
      "clusters found, n = 2\n",
      "[0] []\n",
      "                   pre       rec       spe        f1       geo       iba       sup\n",
      "\n",
      "  On sample       1.00      0.79      1.00      0.88      0.89      0.78       352\n",
      " Off sample       0.38      1.00      0.79      0.55      0.89      0.81        44\n",
      "\n",
      "avg / total       0.93      0.82      0.98      0.85      0.89      0.78       396\n",
      "\n",
      "1142 Rat51_Section2\n",
      "border found\n",
      "matrix generated (12665, 3533)\n",
      "SNR for clusters = 0.047391172429707036\n"
     ]
    },
    {
     "data": {
      "image/png": "[encoded data removed]",
      "text/plain": [
       "<matplotlib.figure.Figure at 0x7f27ac07ce48>"
      ]
     },
     "metadata": {},
     "output_type": "display_data"
    },
    {
     "name": "stdout",
     "output_type": "stream",
     "text": [
      "clusters found, n = 2\n",
      "[0] []\n",
      "                   pre       rec       spe        f1       geo       iba       sup\n",
      "\n",
      "  On sample       0.95      0.98      0.96      0.96      0.97      0.94        88\n",
      " Off sample       0.98      0.96      0.98      0.97      0.97      0.93       114\n",
      "\n",
      "avg / total       0.97      0.97      0.97      0.97      0.97      0.93       202\n",
      "\n",
      "2104 Mousebrain_MG08_2017_GruppeA\n",
      "border found\n",
      "matrix generated (38804, 1366)\n",
      "SNR for clusters = 0.02009390571714259\n"
     ]
    },
    {
     "data": {
      "image/png": "[encoded data removed]",
      "text/plain": [
       "<matplotlib.figure.Figure at 0x7f27ac076320>"
      ]
     },
     "metadata": {},
     "output_type": "display_data"
    },
    {
     "name": "stdout",
     "output_type": "stream",
     "text": [
      "clusters found, n = 2\n",
      "[0] []\n",
      "                   pre       rec       spe        f1       geo       iba       sup\n",
      "\n",
      "  On sample       0.99      1.00      0.96      0.99      0.98      0.96       230\n",
      " Off sample       1.00      0.96      1.00      0.98      0.98      0.96        75\n",
      "\n",
      "avg / total       0.99      0.99      0.97      0.99      0.98      0.96       305\n",
      "\n",
      "1176 Dataset 3_recal\n",
      "border found\n",
      "matrix generated (11340, 2642)\n",
      "SNR for clusters = 0.03686712168015155\n"
     ]
    },
    {
     "data": {
      "image/png": "[encoded data removed]",
      "text/plain": [
       "<matplotlib.figure.Figure at 0x7f27abcd0320>"
      ]
     },
     "metadata": {},
     "output_type": "display_data"
    },
    {
     "name": "stdout",
     "output_type": "stream",
     "text": [
      "clusters found, n = 2\n",
      "[0] []\n",
      "                   pre       rec       spe        f1       geo       iba       sup\n",
      "\n",
      "  On sample       1.00      1.00      1.00      1.00      1.00      1.00       169\n",
      " Off sample       1.00      1.00      1.00      1.00      1.00      1.00       100\n",
      "\n",
      "avg / total       1.00      1.00      1.00      1.00      1.00      1.00       269\n",
      "\n",
      "1177 Dataset 4_recal\n",
      "border found\n",
      "matrix generated (11186, 2311)\n",
      "SNR for clusters = 0.07120285894032467\n"
     ]
    },
    {
     "data": {
      "image/png": "[encoded data removed]",
      "text/plain": [
       "<matplotlib.figure.Figure at 0x7f27ad036940>"
      ]
     },
     "metadata": {},
     "output_type": "display_data"
    },
    {
     "name": "stdout",
     "output_type": "stream",
     "text": [
      "clusters found, n = 2\n",
      "[1] []\n",
      "                   pre       rec       spe        f1       geo       iba       sup\n",
      "\n",
      "  On sample       1.00      0.95      1.00      0.97      0.97      0.94       131\n",
      " Off sample       0.90      1.00      0.95      0.95      0.97      0.95        61\n",
      "\n",
      "avg / total       0.97      0.96      0.98      0.96      0.97      0.94       192\n",
      "\n",
      "1182 Dataset 26_recal\n",
      "border found\n",
      "matrix generated (18769, 2735)\n",
      "SNR for clusters = 0.06517373215135057\n"
     ]
    },
    {
     "data": {
      "image/png": "[encoded data removed]",
      "text/plain": [
       "<matplotlib.figure.Figure at 0x7f27c1779f60>"
      ]
     },
     "metadata": {},
     "output_type": "display_data"
    },
    {
     "name": "stdout",
     "output_type": "stream",
     "text": [
      "clusters found, n = 2\n",
      "[1] []\n",
      "                   pre       rec       spe        f1       geo       iba       sup\n",
      "\n",
      "  On sample       1.00      1.00      1.00      1.00      1.00      1.00       176\n",
      " Off sample       1.00      1.00      1.00      1.00      1.00      1.00       138\n",
      "\n",
      "avg / total       1.00      1.00      1.00      1.00      1.00      1.00       314\n",
      "\n",
      "1240 slide077_animal121_rat_kidney - total ion count\n",
      "border found\n",
      "matrix generated (7698, 1397)\n",
      "SNR for clusters = 0.054240082003627885\n"
     ]
    },
    {
     "data": {
      "image/png": "[encoded data removed]",
      "text/plain": [
       "<matplotlib.figure.Figure at 0x7f27abca6d68>"
      ]
     },
     "metadata": {},
     "output_type": "display_data"
    },
    {
     "name": "stdout",
     "output_type": "stream",
     "text": [
      "clusters found, n = 2\n",
      "[0] []\n",
      "                   pre       rec       spe        f1       geo       iba       sup\n",
      "\n",
      "  On sample       0.89      1.00      0.85      0.94      0.92      0.86       222\n",
      " Off sample       0.99      0.85      1.00      0.92      0.92      0.83       181\n",
      "\n",
      "avg / total       0.94      0.93      0.92      0.93      0.92      0.85       403\n",
      "\n",
      "2300 slide012_animal102_minipig_kidney- total ion count\n",
      "border found\n",
      "matrix generated (8156, 385)\n",
      "SNR for clusters = 0.05274757219497788\n"
     ]
    },
    {
     "data": {
      "image/png": "[encoded data removed]",
      "text/plain": [
       "<matplotlib.figure.Figure at 0x7f27f83eed68>"
      ]
     },
     "metadata": {},
     "output_type": "display_data"
    },
    {
     "name": "stdout",
     "output_type": "stream",
     "text": [
      "clusters found, n = 2\n",
      "[1] []\n",
      "                   pre       rec       spe        f1       geo       iba       sup\n",
      "\n",
      "  On sample       0.89      1.00      0.95      0.94      0.97      0.95        66\n",
      " Off sample       1.00      0.95      1.00      0.97      0.97      0.94       148\n",
      "\n",
      "avg / total       0.97      0.96      0.98      0.96      0.97      0.94       214\n",
      "\n",
      "1248 100um_noM2_001_Recal\n",
      "border found\n",
      "matrix generated (26995, 2718)\n",
      "SNR for clusters = 0.05823165769743619\n"
     ]
    },
    {
     "data": {
      "image/png": "[encoded data removed]",
      "text/plain": [
       "<matplotlib.figure.Figure at 0x7f27ac076be0>"
      ]
     },
     "metadata": {},
     "output_type": "display_data"
    },
    {
     "name": "stdout",
     "output_type": "stream",
     "text": [
      "clusters found, n = 2\n",
      "[1] []\n",
      "                   pre       rec       spe        f1       geo       iba       sup\n",
      "\n",
      "  On sample       0.99      0.98      0.97      0.99      0.97      0.95       336\n",
      " Off sample       0.93      0.97      0.98      0.95      0.97      0.95        98\n",
      "\n",
      "avg / total       0.98      0.98      0.97      0.98      0.97      0.95       434\n",
      "\n",
      "1307 Servier_Ctrl_mouse_wb_median_plane_9aa\n",
      "border found\n",
      "matrix generated (36908, 128)\n",
      "SNR for clusters = 0.3384950395902664\n",
      "BAD IONS = 68\n"
     ]
    },
    {
     "data": {
      "image/png": "[encoded data removed]",
      "text/plain": [
       "<matplotlib.figure.Figure at 0x7f27ac4211d0>"
      ]
     },
     "metadata": {},
     "output_type": "display_data"
    },
    {
     "name": "stdout",
     "output_type": "stream",
     "text": [
      "clusters found, n = 3\n",
      "2 0 900 0.0 0.0\n",
      "[1] []\n",
      "                   pre       rec       spe        f1       geo       iba       sup\n",
      "\n",
      "  On sample       0.94      0.91      0.00      0.92      0.00      0.00       106\n",
      " Off sample       0.00      0.00      0.91      0.00      0.00      0.00         6\n",
      "\n",
      "avg / total       0.89      0.86      0.05      0.87      0.00      0.00       112\n",
      "\n",
      "1352 Mouse_Wholebody_3\n",
      "border found\n",
      "matrix generated (14099, 8560)\n",
      "SNR for clusters = 0.14598120407736054\n"
     ]
    },
    {
     "data": {
      "image/png": "[encoded data removed]",
      "text/plain": [
       "<matplotlib.figure.Figure at 0x7f27ac023160>"
      ]
     },
     "metadata": {},
     "output_type": "display_data"
    },
    {
     "name": "stdout",
     "output_type": "stream",
     "text": [
      "clusters found, n = 3\n",
      "2 167 521 0.32053742802303264 0.25226586102719034\n",
      "[1] [2]\n",
      "                   pre       rec       spe        f1       geo       iba       sup\n",
      "\n",
      "  On sample       0.99      0.93      0.99      0.96      0.96      0.91       227\n",
      " Off sample       0.90      0.99      0.93      0.94      0.96      0.92       139\n",
      "\n",
      "avg / total       0.95      0.95      0.96      0.95      0.96      0.91       366\n",
      "\n",
      "1394 Servier_Ctrl_mouse_wb_lateral_plane_DHB\n",
      "border found\n",
      "matrix generated (27719, 434)\n",
      "SNR for clusters = 0.11010038272173024\n"
     ]
    },
    {
     "data": {
      "image/png": "[encoded data removed]",
      "text/plain": [
       "<matplotlib.figure.Figure at 0x7f27ad036b38>"
      ]
     },
     "metadata": {},
     "output_type": "display_data"
    },
    {
     "name": "stdout",
     "output_type": "stream",
     "text": [
      "clusters found, n = 2\n",
      "[0] []\n",
      "                   pre       rec       spe        f1       geo       iba       sup\n",
      "\n",
      "  On sample       1.00      0.94      1.00      0.97      0.97      0.93       266\n",
      " Off sample       0.67      1.00      0.94      0.80      0.97      0.94        35\n",
      "\n",
      "avg / total       0.96      0.94      0.99      0.95      0.97      0.93       301\n",
      "\n",
      "1395 Servier_Ctrl_mouse_wb_median_plane_DHB\n",
      "border found\n",
      "matrix generated (37416, 422)\n",
      "SNR for clusters = 0.1321928227383085\n"
     ]
    },
    {
     "data": {
      "image/png": "[encoded data removed]",
      "text/plain": [
       "<matplotlib.figure.Figure at 0x7f27ac4235c0>"
      ]
     },
     "metadata": {},
     "output_type": "display_data"
    },
    {
     "name": "stdout",
     "output_type": "stream",
     "text": [
      "clusters found, n = 2\n",
      "[0] []\n",
      "                   pre       rec       spe        f1       geo       iba       sup\n",
      "\n",
      "  On sample       1.00      0.87      1.00      0.93      0.93      0.86       286\n",
      " Off sample       0.32      1.00      0.87      0.49      0.93      0.88        18\n",
      "\n",
      "avg / total       0.96      0.88      0.99      0.90      0.93      0.86       304\n",
      "\n",
      "1402 20170815_CGL_MT-M.B_DAN012_NTM_42x30_100x100\n",
      "border found\n",
      "matrix generated (1259, 1029)\n",
      "SNR for clusters = 0.06401745809884564\n"
     ]
    },
    {
     "data": {
      "image/png": "[encoded data removed]",
      "text/plain": [
       "<matplotlib.figure.Figure at 0x7f27abca6e80>"
      ]
     },
     "metadata": {},
     "output_type": "display_data"
    },
    {
     "name": "stdout",
     "output_type": "stream",
     "text": [
      "clusters found, n = 2\n",
      "[0] []\n",
      "                   pre       rec       spe        f1       geo       iba       sup\n",
      "\n",
      "  On sample       1.00      0.75      1.00      0.86      0.87      0.73        36\n",
      " Off sample       0.88      1.00      0.75      0.94      0.87      0.77        67\n",
      "\n",
      "avg / total       0.92      0.91      0.84      0.91      0.87      0.76       103\n",
      "\n",
      "1410 20170817_CGL_MT-M.B_ATP_DAN018_NTM_102x39_100x100\n",
      "border found\n",
      "matrix generated (3978, 704)\n",
      "SNR for clusters = 0.07316306600826274\n"
     ]
    },
    {
     "data": {
      "image/png": "[encoded data removed]",
      "text/plain": [
       "<matplotlib.figure.Figure at 0x7f27ac4211d0>"
      ]
     },
     "metadata": {},
     "output_type": "display_data"
    },
    {
     "name": "stdout",
     "output_type": "stream",
     "text": [
      "clusters found, n = 4\n",
      "1 0 278 0.0 0.0\n",
      "3 1 278 0.0035971223021582736 0.007407407407407408\n",
      "[0] []\n",
      "                   pre       rec       spe        f1       geo       iba       sup\n",
      "\n",
      "  On sample       0.99      0.99      0.99      0.99      0.99      0.98       109\n",
      " Off sample       0.99      0.99      0.99      0.99      0.99      0.98       121\n",
      "\n",
      "avg / total       0.99      0.99      0.99      0.99      0.99      0.98       230\n",
      "\n",
      "1435 20170905_CGL0170817_MT-MB_ATP_N_81x101_135x135\n",
      "border found\n",
      "matrix generated (8180, 968)\n",
      "SNR for clusters = 0.22766462640892798\n",
      "BAD IONS = 954\n"
     ]
    },
    {
     "data": {
      "image/png": "[encoded data removed]",
      "text/plain": [
       "<matplotlib.figure.Figure at 0x7f27ab457e80>"
      ]
     },
     "metadata": {},
     "output_type": "display_data"
    },
    {
     "name": "stdout",
     "output_type": "stream",
     "text": [
      "MORE valid clusters 3\n",
      "clusters found, n = 5\n",
      "1 13 359 0.036211699164345405 0.03735632183908046\n",
      "3 2 359 0.005571030640668524 0.004357298474945534\n",
      "[0] []\n",
      "                   pre       rec       spe        f1       geo       iba       sup\n",
      "\n",
      "  On sample       1.00      0.95      1.00      0.97      0.97      0.94        19\n",
      " Off sample       0.98      1.00      0.95      0.99      0.97      0.95        57\n",
      "\n",
      "avg / total       0.99      0.99      0.96      0.99      0.97      0.95        76\n",
      "\n",
      "1439 Rat50_Section1\n",
      "border found\n",
      "matrix generated (45365, 1152)\n",
      "SNR for clusters = 0.015232567676362087\n"
     ]
    },
    {
     "data": {
      "image/png": "[encoded data removed]",
      "text/plain": [
       "<matplotlib.figure.Figure at 0x7f27c0f621d0>"
      ]
     },
     "metadata": {},
     "output_type": "display_data"
    },
    {
     "name": "stdout",
     "output_type": "stream",
     "text": [
      "clusters found, n = 2\n",
      "[1] []\n",
      "                   pre       rec       spe        f1       geo       iba       sup\n",
      "\n",
      "  On sample       0.91      1.00      0.90      0.95      0.95      0.90       219\n",
      " Off sample       1.00      0.90      1.00      0.94      0.95      0.89       200\n",
      "\n",
      "avg / total       0.95      0.95      0.95      0.95      0.95      0.90       419\n",
      "\n",
      "1450 MS7_20170907_DHB_pos_MouseBrain_s3_300-1800_40um_245x134_A30-JBE-Test\n",
      "border found\n",
      "matrix generated (32813, 1638)\n",
      "SNR for clusters = 0.04008307008651141\n"
     ]
    },
    {
     "data": {
      "image/png": "[encoded data removed]",
      "text/plain": [
       "<matplotlib.figure.Figure at 0x7f27f83a0978>"
      ]
     },
     "metadata": {},
     "output_type": "display_data"
    },
    {
     "name": "stdout",
     "output_type": "stream",
     "text": [
      "clusters found, n = 2\n",
      "[1] []\n",
      "                   pre       rec       spe        f1       geo       iba       sup\n",
      "\n",
      "  On sample       1.00      0.96      1.00      0.98      0.98      0.95       169\n",
      " Off sample       0.95      1.00      0.96      0.97      0.98      0.96       122\n",
      "\n",
      "avg / total       0.98      0.98      0.98      0.98      0.98      0.96       291\n",
      "\n",
      "1771 Mouse Kidney on plastic slide 260x175 30um\n",
      "border found\n",
      "matrix generated (45500, 2986)\n",
      "SNR for clusters = 0.020863861522467497\n"
     ]
    },
    {
     "data": {
      "image/png": "[encoded data removed]",
      "text/plain": [
       "<matplotlib.figure.Figure at 0x7f27ffeb5eb8>"
      ]
     },
     "metadata": {},
     "output_type": "display_data"
    },
    {
     "name": "stdout",
     "output_type": "stream",
     "text": [
      "clusters found, n = 2\n",
      "[0] []\n",
      "                   pre       rec       spe        f1       geo       iba       sup\n",
      "\n",
      "  On sample       0.99      0.96      0.99      0.97      0.97      0.95       174\n",
      " Off sample       0.97      0.99      0.96      0.98      0.97      0.95       198\n",
      "\n",
      "avg / total       0.98      0.98      0.97      0.98      0.97      0.95       372\n",
      "\n",
      "1772 Mouse Kidney on coated plastic slide 270x160 30 um\n",
      "border found\n",
      "matrix generated (43200, 2342)\n",
      "SNR for clusters = 0.03485009151254053\n"
     ]
    },
    {
     "data": {
      "image/png": "[encoded data removed]",
      "text/plain": [
       "<matplotlib.figure.Figure at 0x7f27abca6b70>"
      ]
     },
     "metadata": {},
     "output_type": "display_data"
    },
    {
     "name": "stdout",
     "output_type": "stream",
     "text": [
      "clusters found, n = 2\n",
      "[1] []\n",
      "                   pre       rec       spe        f1       geo       iba       sup\n",
      "\n",
      "  On sample       0.75      1.00      0.81      0.86      0.90      0.82       145\n",
      " Off sample       1.00      0.81      1.00      0.89      0.90      0.79       255\n",
      "\n",
      "avg / total       0.91      0.88      0.93      0.88      0.90      0.80       400\n",
      "\n",
      "1773 Mouse Kidney on coated plastic slide 300x165 30 um\n",
      "border found\n",
      "matrix generated (49500, 3781)\n",
      "SNR for clusters = 0.03552073256607572\n"
     ]
    },
    {
     "data": {
      "image/png": "[encoded data removed]",
      "text/plain": [
       "<matplotlib.figure.Figure at 0x7f27ac089fd0>"
      ]
     },
     "metadata": {},
     "output_type": "display_data"
    },
    {
     "name": "stdout",
     "output_type": "stream",
     "text": [
      "clusters found, n = 2\n",
      "[1] []\n",
      "                   pre       rec       spe        f1       geo       iba       sup\n",
      "\n",
      "  On sample       0.99      0.91      0.99      0.95      0.95      0.89       239\n",
      " Off sample       0.89      0.99      0.91      0.94      0.95      0.91       187\n",
      "\n",
      "avg / total       0.95      0.94      0.95      0.94      0.95      0.90       426\n",
      "\n",
      "1804 BRB04S-RECAL\n",
      "border found\n",
      "matrix generated (6256, 758)\n",
      "SNR for clusters = 0.10215185622836083\n"
     ]
    },
    {
     "data": {
      "image/png": "[encoded data removed]",
      "text/plain": [
       "<matplotlib.figure.Figure at 0x7f27ac010da0>"
      ]
     },
     "metadata": {},
     "output_type": "display_data"
    },
    {
     "name": "stdout",
     "output_type": "stream",
     "text": [
      "clusters found, n = 2\n",
      "[0] []\n",
      "                   pre       rec       spe        f1       geo       iba       sup\n",
      "\n",
      "  On sample       1.00      0.97      1.00      0.98      0.98      0.96       172\n",
      " Off sample       0.91      1.00      0.97      0.95      0.98      0.97        62\n",
      "\n",
      "avg / total       0.98      0.97      0.99      0.97      0.98      0.96       234\n",
      "\n",
      "1942 Kidney_280x140_40um_E0\n",
      "border found\n",
      "matrix generated (39200, 2472)\n",
      "SNR for clusters = 0.03950769446100547\n"
     ]
    },
    {
     "data": {
      "image/png": "[encoded data removed]",
      "text/plain": [
       "<matplotlib.figure.Figure at 0x7f27abd07048>"
      ]
     },
     "metadata": {},
     "output_type": "display_data"
    },
    {
     "name": "stdout",
     "output_type": "stream",
     "text": [
      "clusters found, n = 2\n",
      "[1] []\n",
      "                   pre       rec       spe        f1       geo       iba       sup\n",
      "\n",
      "  On sample       1.00      1.00      1.00      1.00      1.00      1.00       100\n",
      " Off sample       1.00      1.00      1.00      1.00      1.00      1.00        70\n",
      "\n",
      "avg / total       1.00      1.00      1.00      1.00      1.00      1.00       170\n",
      "\n",
      "2024 LNTO31_17_1-RECAL\n",
      "border found\n",
      "matrix generated (6642, 264)\n",
      "SNR for clusters = 0.12627672600156745\n"
     ]
    },
    {
     "data": {
      "image/png": "[encoded data removed]",
      "text/plain": [
       "<matplotlib.figure.Figure at 0x7f27f83eecf8>"
      ]
     },
     "metadata": {},
     "output_type": "display_data"
    },
    {
     "name": "stdout",
     "output_type": "stream",
     "text": [
      "clusters found, n = 2\n",
      "[1] []\n",
      "                   pre       rec       spe        f1       geo       iba       sup\n",
      "\n",
      "  On sample       1.00      0.97      1.00      0.99      0.99      0.97       149\n",
      " Off sample       0.69      1.00      0.97      0.82      0.99      0.98         9\n",
      "\n",
      "avg / total       0.98      0.97      1.00      0.98      0.99      0.97       158\n",
      "\n",
      "2163 20171110_94T_RDAM_1b\n",
      "border found\n",
      "matrix generated (5378, 60)\n",
      "SNR for clusters = 0.20344194603940208\n"
     ]
    },
    {
     "data": {
      "image/png": "[encoded data removed]",
      "text/plain": [
       "<matplotlib.figure.Figure at 0x7f27c1779f60>"
      ]
     },
     "metadata": {},
     "output_type": "display_data"
    },
    {
     "name": "stdout",
     "output_type": "stream",
     "text": [
      "clusters found, n = 2\n",
      "[1] []\n",
      "                   pre       rec       spe        f1       geo       iba       sup\n",
      "\n",
      "  On sample       1.00      1.00      1.00      1.00      1.00      1.00        42\n",
      " Off sample       1.00      1.00      1.00      1.00      1.00      1.00         4\n",
      "\n",
      "avg / total       1.00      1.00      1.00      1.00      1.00      1.00        46\n",
      "\n",
      "2233 DESI porcine kidney interface region\n",
      "border found\n",
      "matrix generated (43340, 990)\n",
      "SNR for clusters = 0.0823029440160011\n"
     ]
    },
    {
     "data": {
      "image/png": "[encoded data removed]",
      "text/plain": [
       "<matplotlib.figure.Figure at 0x7f27abcf76d8>"
      ]
     },
     "metadata": {},
     "output_type": "display_data"
    },
    {
     "name": "stdout",
     "output_type": "stream",
     "text": [
      "clusters found, n = 2\n",
      "[1] []\n",
      "                   pre       rec       spe        f1       geo       iba       sup\n",
      "\n",
      "  On sample       1.00      1.00      1.00      1.00      1.00      1.00       469\n",
      " Off sample       1.00      1.00      1.00      1.00      1.00      1.00         7\n",
      "\n",
      "avg / total       1.00      1.00      1.00      1.00      1.00      1.00       476\n",
      "\n",
      "2291 75um_small(focusing)_high(m/z)_dry(application)\n",
      "border found\n",
      "matrix generated (1032, 103)\n",
      "SNR for clusters = 0.09690513241706385\n"
     ]
    },
    {
     "data": {
      "image/png": "[encoded data removed]",
      "text/plain": [
       "<matplotlib.figure.Figure at 0x7f27f83eed68>"
      ]
     },
     "metadata": {},
     "output_type": "display_data"
    },
    {
     "name": "stdout",
     "output_type": "stream",
     "text": [
      "clusters found, n = 2\n",
      "[1] []\n",
      "                   pre       rec       spe        f1       geo       iba       sup\n",
      "\n",
      "  On sample       0.74      1.00      0.69      0.85      0.83      0.71        46\n",
      " Off sample       1.00      0.69      1.00      0.81      0.83      0.66        51\n",
      "\n",
      "avg / total       0.88      0.84      0.85      0.83      0.83      0.69        97\n",
      "\n",
      "2293 75um_small(focusing)_low(m/z)_dry(application)\n",
      "border found\n",
      "matrix generated (887, 36)\n",
      "SNR for clusters = 0.07791048671679618\n"
     ]
    },
    {
     "data": {
      "image/png": "[encoded data removed]",
      "text/plain": [
       "<matplotlib.figure.Figure at 0x7f2801e5b860>"
      ]
     },
     "metadata": {},
     "output_type": "display_data"
    },
    {
     "name": "stdout",
     "output_type": "stream",
     "text": [
      "clusters found, n = 2\n",
      "[1] []\n",
      "                   pre       rec       spe        f1       geo       iba       sup\n",
      "\n",
      "  On sample       0.33      1.00      0.64      0.50      0.80      0.67         5\n",
      " Off sample       1.00      0.64      1.00      0.78      0.80      0.62        28\n",
      "\n",
      "avg / total       0.90      0.70      0.95      0.74      0.80      0.63        33\n",
      "\n",
      "2297 50um_min(focusing)_high(m/z)_dry(application)\n",
      "border found\n",
      "matrix generated (2102, 13)\n",
      "SNR for clusters = 0.09802750897676611\n"
     ]
    },
    {
     "data": {
      "image/png": "[encoded data removed]",
      "text/plain": [
       "<matplotlib.figure.Figure at 0x7f27c1779f60>"
      ]
     },
     "metadata": {},
     "output_type": "display_data"
    },
    {
     "name": "stdout",
     "output_type": "stream",
     "text": [
      "clusters found, n = 2\n",
      "[1] []\n",
      "                   pre       rec       spe        f1       geo       iba       sup\n",
      "\n",
      "  On sample       1.00      1.00      1.00      1.00      1.00      1.00         1\n",
      " Off sample       1.00      1.00      1.00      1.00      1.00      1.00         9\n",
      "\n",
      "avg / total       1.00      1.00      1.00      1.00      1.00      1.00        10\n",
      "\n",
      "2313 12_cylces_75um_new_submission\n",
      "border found\n",
      "matrix generated (2113, 653)\n",
      "SNR for clusters = 0.08369172760698815\n"
     ]
    },
    {
     "data": {
      "image/png": "[encoded data removed]",
      "text/plain": [
       "<matplotlib.figure.Figure at 0x7f27c1779e80>"
      ]
     },
     "metadata": {},
     "output_type": "display_data"
    },
    {
     "name": "stdout",
     "output_type": "stream",
     "text": [
      "clusters found, n = 2\n",
      "[1] []\n",
      "                   pre       rec       spe        f1       geo       iba       sup\n",
      "\n",
      "  On sample       0.95      1.00      0.91      0.97      0.95      0.92       212\n",
      " Off sample       1.00      0.91      1.00      0.95      0.95      0.90       123\n",
      "\n",
      "avg / total       0.97      0.97      0.94      0.97      0.95      0.91       335\n",
      "\n",
      "2329 50%meoh_8cyc_75um\n",
      "border found\n",
      "matrix generated (1712, 573)\n",
      "SNR for clusters = 0.08073557248248031\n"
     ]
    },
    {
     "data": {
      "image/png": "[encoded data removed]",
      "text/plain": [
       "<matplotlib.figure.Figure at 0x7f27abcf2b00>"
      ]
     },
     "metadata": {},
     "output_type": "display_data"
    },
    {
     "name": "stdout",
     "output_type": "stream",
     "text": [
      "clusters found, n = 2\n",
      "[1] []\n",
      "                   pre       rec       spe        f1       geo       iba       sup\n",
      "\n",
      "  On sample       0.97      1.00      0.97      0.99      0.98      0.97       186\n",
      " Off sample       1.00      0.97      1.00      0.98      0.98      0.96       152\n",
      "\n",
      "avg / total       0.99      0.99      0.98      0.99      0.98      0.97       338\n",
      "\n",
      "2330 70%meoh_8cyc_75um\n",
      "border found\n",
      "matrix generated (1743, 588)\n",
      "SNR for clusters = 0.09851094748378937\n"
     ]
    },
    {
     "data": {
      "image/png": "[encoded data removed]",
      "text/plain": [
       "<matplotlib.figure.Figure at 0x7f27ac089dd8>"
      ]
     },
     "metadata": {},
     "output_type": "display_data"
    },
    {
     "name": "stdout",
     "output_type": "stream",
     "text": [
      "clusters found, n = 2\n",
      "[1] []\n",
      "                   pre       rec       spe        f1       geo       iba       sup\n",
      "\n",
      "  On sample       1.00      1.00      1.00      1.00      1.00      1.00        38\n",
      " Off sample       1.00      1.00      1.00      1.00      1.00      1.00       165\n",
      "\n",
      "avg / total       1.00      1.00      1.00      1.00      1.00      1.00       203\n",
      "\n",
      "2336 20180220_mouse eye_DHB\n",
      "border found\n",
      "matrix generated (8464, 986)\n",
      "SNR for clusters = 0.043464472709644986\n"
     ]
    },
    {
     "data": {
      "image/png": "[encoded data removed]",
      "text/plain": [
       "<matplotlib.figure.Figure at 0x7f27abc42e80>"
      ]
     },
     "metadata": {},
     "output_type": "display_data"
    },
    {
     "name": "stdout",
     "output_type": "stream",
     "text": [
      "clusters found, n = 4\n",
      "1 8 364 0.02197802197802198 0.47058823529411764\n",
      "3 3 364 0.008241758241758242 0.1875\n",
      "[0] [1, 3]\n",
      "                   pre       rec       spe        f1       geo       iba       sup\n",
      "\n",
      "  On sample       0.97      0.86      0.95      0.92      0.90      0.81       258\n",
      " Off sample       0.75      0.95      0.86      0.84      0.90      0.83       113\n",
      "\n",
      "avg / total       0.91      0.89      0.92      0.89      0.90      0.82       371\n",
      "\n",
      "98 HK_S2_N2_20um_New\n",
      "border found\n",
      "matrix generated (21216, 1260)\n",
      "SNR for clusters = 0.047640087959250746\n"
     ]
    },
    {
     "data": {
      "image/png": "[encoded data removed]",
      "text/plain": [
       "<matplotlib.figure.Figure at 0x7f27abcf2438>"
      ]
     },
     "metadata": {},
     "output_type": "display_data"
    },
    {
     "name": "stdout",
     "output_type": "stream",
     "text": [
      "clusters found, n = 2\n",
      "[1] []\n",
      "                   pre       rec       spe        f1       geo       iba       sup\n",
      "\n",
      "  On sample       1.00      0.99      1.00      1.00      1.00      0.99       236\n",
      " Off sample       0.99      1.00      0.99      0.99      1.00      0.99       184\n",
      "\n",
      "avg / total       1.00      1.00      1.00      1.00      1.00      0.99       420\n",
      "\n",
      "94 PS_7_P7_N1_30um_New\n",
      "border found\n",
      "matrix generated (22316, 208)\n",
      "SNR for clusters = 0.08402572629250717\n"
     ]
    },
    {
     "data": {
      "image/png": "[encoded data removed]",
      "text/plain": [
       "<matplotlib.figure.Figure at 0x7f27c1779f60>"
      ]
     },
     "metadata": {},
     "output_type": "display_data"
    },
    {
     "name": "stdout",
     "output_type": "stream",
     "text": [
      "clusters found, n = 2\n",
      "[0] []\n",
      "                   pre       rec       spe        f1       geo       iba       sup\n",
      "\n",
      "  On sample       1.00      1.00      1.00      1.00      1.00      1.00        91\n",
      " Off sample       1.00      1.00      1.00      1.00      1.00      1.00        53\n",
      "\n",
      "avg / total       1.00      1.00      1.00      1.00      1.00      1.00       144\n",
      "\n",
      "F1 ON average with 87 batches: 0.96 (+/- 0.18)\n",
      "P ON average: 0.95 (+/- 0.25)\n",
      "R ON average: 0.97 (+/- 0.09)\n",
      "\n",
      "F1 OFF with 87 batches: 0.94 (+/- 0.26)\n",
      "P OFF average: 0.94 (+/- 0.30)\n",
      "R OF average: 0.95 (+/- 0.25)\n"
     ]
    }
   ],
   "source": [
    "from scipy.sparse import csr_matrix\n",
    "\n",
    "f1_off = []\n",
    "f1_on = []\n",
    "p_off = []\n",
    "p_on = []\n",
    "r_off = []\n",
    "r_on = []\n",
    "\n",
    "swap_clusters = ['MPIMM_049_QE_P_BA_CF_sp3', 'Rat50_Section1']\n",
    "\n",
    "result = pd.DataFrame(columns=['ds_ind', 'datasetId', 'ion_ind', 'prediction', 'gs'])\n",
    "\n",
    "for datasetId, ds_rows in gs_df.groupby('datasetId'):\n",
    "    ds_row = ds_df[ds_df['id'] == datasetId]\n",
    "        \n",
    "    if len(ds_row.index)==0: \n",
    "        print('Dataset not found: ', datasetId)\n",
    "        continue\n",
    "        \n",
    "    ds_name = ds_row['name'].iloc[0]\n",
    "    ds_ind = ds_row.index.tolist()[0]         \n",
    "            \n",
    "    print(ds_ind, ds_name)\n",
    "    \n",
    "    pixel_df_path = path.join(ann_path, '{}'.format(ds_ind))\n",
    "    pixel_df = pd.read_msgpack(pixel_df_path)\n",
    "    pixel_df = pixel_df[pixel_df.fdr <= 50]\n",
    "                   \n",
    "    coord_df = pixel_df[['x', 'y']].drop_duplicates()[['x', 'y']]  \n",
    "    border_df = find_border_pixels(coord_df)\n",
    "    coord_df = coord_df.merge(border_df, on=['x', 'y'], how='left')\n",
    "    print('border found')\n",
    "        \n",
    "    gs_inds_on = get_ion_ind_df(ds_rows[ds_rows.type == 'on'])\n",
    "    gs_inds_off = get_ion_ind_df(ds_rows[ds_rows.type == 'off'])\n",
    "    y_test = [0] * len(gs_inds_on) + [1] * len(gs_inds_off)\n",
    "    \n",
    "    (good_clusters, ion_clusters) = cluster_classification(pixel_df, coord_df, gs_inds_on + gs_inds_off)\n",
    "    \n",
    "    prediction = ion_clusters\n",
    "    \n",
    "    #EVALUATE\n",
    "    loc_result = pd.DataFrame({'ds_name': [ds_name]*len(ion_clusters),\n",
    "                              'ds_ind': [ds_ind]*len(ion_clusters),\n",
    "                              'datasetId': [datasetId]*len(ion_clusters),\n",
    "                              'ion_ind': gs_inds_on+gs_inds_off,\n",
    "                             'prediction': prediction,\n",
    "                             'gs': y_test})\n",
    "    result = result.append(loc_result)\n",
    "\n",
    "    \n",
    "    f1_off.append(f1_score(y_test, prediction, pos_label = 1))\n",
    "    f1_on.append(f1_score(y_test, prediction, pos_label = 0))\n",
    "        \n",
    "    p_off.append(precision_score(y_test, prediction, pos_label = 1))\n",
    "    p_on.append(precision_score(y_test, prediction, pos_label = 0))\n",
    "        \n",
    "    r_off.append(recall_score(y_test, prediction, pos_label = 1))\n",
    "    r_on.append(recall_score(y_test, prediction, pos_label = 0))\n",
    "    \n",
    "    print(classification_report_imbalanced(y_test, prediction, target_names=['On sample', 'Off sample']))\n",
    "\n",
    "print(\"F1 ON average with %d batches: %0.2f (+/- %0.2f)\" % (len(f1_on), np.mean(f1_on), np.std(f1_on) * 2))\n",
    "print(\"P ON average: %0.2f (+/- %0.2f)\" % (np.mean(p_on), np.std(p_on) * 2))\n",
    "print(\"R ON average: %0.2f (+/- %0.2f)\" % (np.mean(r_on), np.std(r_on) * 2))\n",
    "\n",
    "print()\n",
    "\n",
    "print(\"F1 OFF with %d batches: %0.2f (+/- %0.2f)\" % (len(f1_off), np.mean(f1_off), np.std(f1_off) * 2))\n",
    "print(\"P OFF average: %0.2f (+/- %0.2f)\" % (np.mean(p_off), np.std(p_off) * 2))\n",
    "print(\"R OF average: %0.2f (+/- %0.2f)\" % (np.mean(r_off), np.std(r_off) * 2))"
   ]
  },
  {
   "cell_type": "code",
   "execution_count": 196,
   "metadata": {
    "collapsed": true
   },
   "outputs": [],
   "source": [
    "# Predefined folds to compare all models\n",
    "vitaly_folds = [['DESI porcine kidney interface region',\n",
    "  '20180220_mouse eye_DHB',\n",
    "  'Servier_Ctrl_mouse_wb_median_plane_DHB',\n",
    "  'slide012_animal102_minipig_kidney- total ion count',\n",
    "  'Dataset 31',\n",
    "  'xenograft CT-26 S10',\n",
    "  'Dataset 26_recal',\n",
    "  '170321_kangaroobrain-bpyn1-pos_maxof50.0_med1r',\n",
    "  'Servier_Ctrl_mouse_wb_median_plane_9aa',\n",
    "  'LNTO31_17_1-RECAL',\n",
    "  '2017023_ADP_GFlarvae_55x55_40x40_DMAN002',\n",
    "  '161007_WT1S1L1',\n",
    "  'servier_TT_mouse_wb_fmpts_derivatization_CHCA',\n",
    "  'ICL//LNTO30_16_1',\n",
    "  'ICL//LNTO42_17_1',\n",
    "  'ICL//LNTO41_17_4',\n",
    "  '50%meoh_8cyc_75um'],\n",
    " ['Esco2_centroids',\n",
    "  '20170503_ADP-JS_CD1-Brain_dan005_117x143_60x60_N',\n",
    "  'Dataset 23',\n",
    "  'Dataset 4',\n",
    "  'Mouse Kidney on plastic slide 260x175 30um',\n",
    "  '20170815_CGL_MT-M.B_DAN012_NTM_42x30_100x100',\n",
    "  'S648 WS20 205x170 20um E110',\n",
    "  'MP 39',\n",
    "  '50um_min(focusing)_high(m_z)_dry(application)',\n",
    "  '20170817_CGL_MT-M.B_ATP_DAN018_NTM_102x39_100x100',\n",
    "  'UoNotreDame//Untreated_6_574',\n",
    "  'NCSU_mouse_LCC6_tumor',\n",
    "  'AstraZeneca//CT26_xenograft',\n",
    "  'MPIMM_049_QE_P_BA_CF_sp3',\n",
    "  'Dataset 4_recal',\n",
    "  'Mouse Kidney on coated plastic slide 270x160 30 um',\n",
    "  'NCSU_M8_mouse_brain',\n",
    "  '20170905_CGL0170817_MT-MB_ATP_N_81x101_135x135'],\n",
    " ['Servier_Ctrl_mouse_wb_lateral_plane_DHB',\n",
    "  'AstraZeneca//Rat_testis',\n",
    "  'Dataset 30',\n",
    "  '100um_noM2_001_Recal',\n",
    "  'Row001',\n",
    "  '20171110_94T_RDAM_1b',\n",
    "  'Servier_Ctrl_rat_liver_9aa',\n",
    "  'PS_7_P7_N1_30um_New',\n",
    "  'Dataset 27',\n",
    "  'BRB04S-RECAL',\n",
    "  'Dataset 21',\n",
    "  'ICL//LNTO41_17_2',\n",
    "  'Esco1_centroids',\n",
    "  '75um_small(focusing)_low(m_z)_dry(application)',\n",
    "  'DESI quan_Swales',\n",
    "  'Xenograft_3_135um',\n",
    "  'ST-Pseudo_centroids',\n",
    "  'North Carolina State University//mouse body'],\n",
    " ['Dataset 18',\n",
    "  'ICL//A51 CT S3-centroid',\n",
    "  'Dataset 16',\n",
    "  'Borderline14',\n",
    "  'Rat50_Section1',\n",
    "  'Tumor17',\n",
    "  'ICL//LNTO22_1_3',\n",
    "  'ICL//7TopRight,_17BottomRight,_27BottomLeft,_37TopLeft',\n",
    "  'MPIMM_021_QE_P_CB_0',\n",
    "  '20170105_VS_disc2_NEDC0001_70x80_10x10',\n",
    "  'slide077_animal121_rat_kidney - total ion count',\n",
    "  'Normal8',\n",
    "  'ICL//LNTO31_17_4',\n",
    "  'Dataset 8',\n",
    "  'Mousebrain_MG08_2017_GruppeA',\n",
    "  'ICL//LNTO26_7_3',\n",
    "  'Mouse Kidney on coated plastic slide 300x165 30 um'],\n",
    " ['Dataset 3',\n",
    "  'Mouse_Wholebody_3',\n",
    "  'Rat51_Section2',\n",
    "  '12_cylces_75um_new_submission',\n",
    "  'CC-Esco2_centroids',\n",
    "  'Dataset 2',\n",
    "  'Tumor11',\n",
    "  '70%meoh_8cyc_75um',\n",
    "  '170418_MouseBrain_pos_50um_205by129_atn0',\n",
    "  'Borderline13',\n",
    "  'Kidney_280x140_40um_E0',\n",
    "  'S649 WS21 155x105 15um E110',\n",
    "  'MS7_20170907_DHB_pos_MouseBrain_s3_300-1800_40um_245x134_A30-JBE-Test',\n",
    "  'Tumor41',\n",
    "  'HK_S2_N2_20um_New',\n",
    "  '75um_small(focusing)_high(m_z)_dry(application)',\n",
    "  'Dataset 3_recal']]\n",
    "\n",
    "folds = []\n",
    "diff_inds = result.ds_ind.unique()\n",
    "for ds_names in vitaly_folds:\n",
    "    ds_inds = []\n",
    "    for dn in ds_names:\n",
    "        dn = dn.replace('__','//')\n",
    "        dn = dn.replace('m_z', 'm/z')\n",
    "        inds = ds_df[ds_df[\"name\"] == dn].index.tolist()\n",
    "        if len(inds) > 1: \n",
    "            ds_inds.append([i for i in inds if i in diff_inds][0])\n",
    "        else: ds_inds.append(inds[0])\n",
    "    if len(ds_names) != len(ds_inds): print('problem!')\n",
    "    folds.append(ds_inds)"
   ]
  },
  {
   "cell_type": "code",
   "execution_count": 197,
   "metadata": {},
   "outputs": [
    {
     "name": "stdout",
     "output_type": "stream",
     "text": [
      "FOLD 0\n",
      "                   pre       rec       spe        f1       geo       iba       sup\n",
      "\n",
      "  On sample       0.99      0.89      0.97      0.94      0.93      0.86      3160\n",
      " Off sample       0.81      0.97      0.89      0.88      0.93      0.87      1480\n",
      "\n",
      "avg / total       0.93      0.92      0.95      0.92      0.93      0.87      4640\n",
      "\n",
      "FOLD 1\n",
      "                   pre       rec       spe        f1       geo       iba       sup\n",
      "\n",
      "  On sample       0.95      0.98      0.96      0.96      0.97      0.94      2129\n",
      " Off sample       0.98      0.96      0.98      0.97      0.97      0.93      2518\n",
      "\n",
      "avg / total       0.97      0.97      0.97      0.97      0.97      0.93      4647\n",
      "\n",
      "FOLD 2\n",
      "                   pre       rec       spe        f1       geo       iba       sup\n",
      "\n",
      "  On sample       0.97      0.98      0.97      0.98      0.98      0.95      2402\n",
      " Off sample       0.98      0.97      0.98      0.98      0.98      0.95      2264\n",
      "\n",
      "avg / total       0.98      0.98      0.98      0.98      0.98      0.95      4666\n",
      "\n",
      "FOLD 3\n",
      "                   pre       rec       spe        f1       geo       iba       sup\n",
      "\n",
      "  On sample       0.95      0.98      0.92      0.97      0.95      0.91      2920\n",
      " Off sample       0.97      0.92      0.98      0.94      0.95      0.90      1718\n",
      "\n",
      "avg / total       0.96      0.96      0.94      0.96      0.95      0.91      4638\n",
      "\n",
      "FOLD 4\n",
      "                   pre       rec       spe        f1       geo       iba       sup\n",
      "\n",
      "  On sample       0.98      0.98      0.97      0.98      0.97      0.95      2718\n",
      " Off sample       0.97      0.97      0.98      0.97      0.97      0.95      1929\n",
      "\n",
      "avg / total       0.98      0.98      0.97      0.98      0.97      0.95      4647\n",
      "\n",
      "F1 ON average with 5 batches: 0.96 (+/- 0.03)\n",
      "P ON average: 0.97 (+/- 0.03)\n",
      "R ON average: 0.96 (+/- 0.07)\n",
      "\n",
      "F1 OFF with 5 batches: 0.95 (+/- 0.07)\n",
      "P OFF average: 0.94 (+/- 0.14)\n",
      "R OF average: 0.96 (+/- 0.04)\n"
     ]
    }
   ],
   "source": [
    "f1_off = []\n",
    "f1_on = []\n",
    "p_off = []\n",
    "p_on = []\n",
    "r_off = []\n",
    "r_on = []\n",
    "\n",
    "result['prediction'] = result['prediction'].astype(int)\n",
    "\n",
    "for i, batch in enumerate(folds):\n",
    "    print('FOLD', i)\n",
    "    \n",
    "    ds_res_df = result[result['ds_ind'].isin(batch)]\n",
    "    \n",
    "    gs = ds_res_df['gs'].values.tolist()\n",
    "    prediction = ds_res_df['prediction'].values.tolist()\n",
    "    \n",
    "    f1_off.append(f1_score(gs, prediction, pos_label = 1))\n",
    "    f1_on.append(f1_score(gs, prediction, pos_label = 0))\n",
    "        \n",
    "    p_off.append(precision_score(gs, prediction, pos_label = 1))\n",
    "    p_on.append(precision_score(gs, prediction, pos_label = 0))\n",
    "        \n",
    "    r_off.append(recall_score(gs, prediction, pos_label = 1))\n",
    "    r_on.append(recall_score(gs, prediction, pos_label = 0))\n",
    "    \n",
    "    print(classification_report_imbalanced(gs, prediction, target_names=['On sample', 'Off sample']))\n",
    "\n",
    "print(\"F1 ON average with %d batches: %0.2f (+/- %0.2f)\" % (len(f1_on), np.mean(f1_on), np.std(f1_on) * 2))\n",
    "print(\"P ON average: %0.2f (+/- %0.2f)\" % (np.mean(p_on), np.std(p_on) * 2))\n",
    "print(\"R ON average: %0.2f (+/- %0.2f)\" % (np.mean(r_on), np.std(r_on) * 2))\n",
    "\n",
    "print()\n",
    "\n",
    "print(\"F1 OFF with %d batches: %0.2f (+/- %0.2f)\" % (len(f1_off), np.mean(f1_off), np.std(f1_off) * 2))\n",
    "print(\"P OFF average: %0.2f (+/- %0.2f)\" % (np.mean(p_off), np.std(p_off) * 2))\n",
    "print(\"R OF average: %0.2f (+/- %0.2f)\" % (np.mean(r_off), np.std(r_off) * 2))"
   ]
  },
  {
   "cell_type": "code",
   "execution_count": null,
   "metadata": {
    "collapsed": true
   },
   "outputs": [],
   "source": []
  }
 ],
 "metadata": {
  "kernelspec": {
   "display_name": "Python 3",
   "language": "python",
   "name": "python3"
  },
  "language_info": {
   "codemirror_mode": {
    "name": "ipython",
    "version": 3
   },
   "file_extension": ".py",
   "mimetype": "text/x-python",
   "name": "python",
   "nbconvert_exporter": "python",
   "pygments_lexer": "ipython3",
   "version": "3.4.3"
  }
 },
 "nbformat": 4,
 "nbformat_minor": 2
}
